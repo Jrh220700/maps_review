{
 "cells": [
  {
   "cell_type": "code",
   "execution_count": 1,
   "metadata": {},
   "outputs": [],
   "source": [
    "import pandas as pd\n",
    "import numpy as np\n",
    "import matplotlib"
   ]
  },
  {
   "cell_type": "code",
   "execution_count": 2,
   "metadata": {},
   "outputs": [],
   "source": [
    "user_input = input(\"Please enter a business type\").lower()"
   ]
  },
  {
   "cell_type": "code",
   "execution_count": 3,
   "metadata": {},
   "outputs": [
    {
     "name": "stdout",
     "output_type": "stream",
     "text": [
      "agent\n"
     ]
    }
   ],
   "source": [
    "print(user_input)"
   ]
  },
  {
   "cell_type": "code",
   "execution_count": 4,
   "metadata": {},
   "outputs": [
    {
     "data": {
      "text/html": [
       "<div>\n",
       "<style scoped>\n",
       "    .dataframe tbody tr th:only-of-type {\n",
       "        vertical-align: middle;\n",
       "    }\n",
       "\n",
       "    .dataframe tbody tr th {\n",
       "        vertical-align: top;\n",
       "    }\n",
       "\n",
       "    .dataframe thead th {\n",
       "        text-align: right;\n",
       "    }\n",
       "</style>\n",
       "<table border=\"1\" class=\"dataframe\">\n",
       "  <thead>\n",
       "    <tr style=\"text-align: right;\">\n",
       "      <th></th>\n",
       "      <th>Business Name</th>\n",
       "      <th>Street Number</th>\n",
       "      <th>Route</th>\n",
       "      <th>Postal Town</th>\n",
       "      <th>County</th>\n",
       "      <th>Country</th>\n",
       "      <th>Postcode</th>\n",
       "      <th>Overall Rating</th>\n",
       "      <th>Language</th>\n",
       "      <th>Rating</th>\n",
       "      <th>Review Description</th>\n",
       "      <th>Time</th>\n",
       "      <th>Date</th>\n",
       "      <th>processed review</th>\n",
       "      <th>lemmatized review</th>\n",
       "    </tr>\n",
       "  </thead>\n",
       "  <tbody>\n",
       "    <tr>\n",
       "      <th>0</th>\n",
       "      <td>Nails and the City</td>\n",
       "      <td>46</td>\n",
       "      <td>Kenyon Street</td>\n",
       "      <td>Birmingham</td>\n",
       "      <td>West Midlands</td>\n",
       "      <td>United Kingdom</td>\n",
       "      <td>B18 6AR</td>\n",
       "      <td>4.7</td>\n",
       "      <td>en</td>\n",
       "      <td>5.0</td>\n",
       "      <td>have to say this is the best salon ive ever be...</td>\n",
       "      <td>1.652418e+09</td>\n",
       "      <td>2022-05-13 05:07:20</td>\n",
       "      <td>say best salon ive ever 4 weeks lifting acryli...</td>\n",
       "      <td>say best salon ive ever 4 week lifting acryli...</td>\n",
       "    </tr>\n",
       "    <tr>\n",
       "      <th>1</th>\n",
       "      <td>Nails and the City</td>\n",
       "      <td>46</td>\n",
       "      <td>Kenyon Street</td>\n",
       "      <td>Birmingham</td>\n",
       "      <td>West Midlands</td>\n",
       "      <td>United Kingdom</td>\n",
       "      <td>B18 6AR</td>\n",
       "      <td>4.7</td>\n",
       "      <td>en</td>\n",
       "      <td>5.0</td>\n",
       "      <td>nian is incredible ive been coming here for a ...</td>\n",
       "      <td>1.661441e+09</td>\n",
       "      <td>2022-08-25 15:22:45</td>\n",
       "      <td>nian incredible ive coming couple months every...</td>\n",
       "      <td>nian incredible ive coming couple month every...</td>\n",
       "    </tr>\n",
       "    <tr>\n",
       "      <th>2</th>\n",
       "      <td>Nails and the City</td>\n",
       "      <td>46</td>\n",
       "      <td>Kenyon Street</td>\n",
       "      <td>Birmingham</td>\n",
       "      <td>West Midlands</td>\n",
       "      <td>United Kingdom</td>\n",
       "      <td>B18 6AR</td>\n",
       "      <td>4.7</td>\n",
       "      <td>en</td>\n",
       "      <td>5.0</td>\n",
       "      <td>i got a new set of gels from tee who was so so...</td>\n",
       "      <td>1.658412e+09</td>\n",
       "      <td>2022-07-21 14:04:52</td>\n",
       "      <td>got new set gels tee lovely chat helped choose...</td>\n",
       "      <td>got new set gel tee lovely chat helped choose...</td>\n",
       "    </tr>\n",
       "    <tr>\n",
       "      <th>3</th>\n",
       "      <td>Nails and the City</td>\n",
       "      <td>46</td>\n",
       "      <td>Kenyon Street</td>\n",
       "      <td>Birmingham</td>\n",
       "      <td>West Midlands</td>\n",
       "      <td>United Kingdom</td>\n",
       "      <td>B18 6AR</td>\n",
       "      <td>4.7</td>\n",
       "      <td>en</td>\n",
       "      <td>5.0</td>\n",
       "      <td>i have been coming to this salon since i moved...</td>\n",
       "      <td>1.660734e+09</td>\n",
       "      <td>2022-08-17 10:57:00</td>\n",
       "      <td>coming salon since moved birmingham took find ...</td>\n",
       "      <td>coming salon since moved birmingham took find...</td>\n",
       "    </tr>\n",
       "    <tr>\n",
       "      <th>4</th>\n",
       "      <td>Nails and the City</td>\n",
       "      <td>46</td>\n",
       "      <td>Kenyon Street</td>\n",
       "      <td>Birmingham</td>\n",
       "      <td>West Midlands</td>\n",
       "      <td>United Kingdom</td>\n",
       "      <td>B18 6AR</td>\n",
       "      <td>4.7</td>\n",
       "      <td>en</td>\n",
       "      <td>5.0</td>\n",
       "      <td>i had my nails done for the first time and i c...</td>\n",
       "      <td>1.659646e+09</td>\n",
       "      <td>2022-08-04 20:41:01</td>\n",
       "      <td>nails done first time say place super cozy gir...</td>\n",
       "      <td>nail done first time say place super cozy gir...</td>\n",
       "    </tr>\n",
       "    <tr>\n",
       "      <th>...</th>\n",
       "      <td>...</td>\n",
       "      <td>...</td>\n",
       "      <td>...</td>\n",
       "      <td>...</td>\n",
       "      <td>...</td>\n",
       "      <td>...</td>\n",
       "      <td>...</td>\n",
       "      <td>...</td>\n",
       "      <td>...</td>\n",
       "      <td>...</td>\n",
       "      <td>...</td>\n",
       "      <td>...</td>\n",
       "      <td>...</td>\n",
       "      <td>...</td>\n",
       "      <td>...</td>\n",
       "    </tr>\n",
       "    <tr>\n",
       "      <th>22374</th>\n",
       "      <td>Super Hand Car Wash</td>\n",
       "      <td>53-55</td>\n",
       "      <td>Llangollen Road</td>\n",
       "      <td>Wrexham</td>\n",
       "      <td>Wrexham Principal Area</td>\n",
       "      <td>United Kingdom</td>\n",
       "      <td>LL14 3RS</td>\n",
       "      <td>5.0</td>\n",
       "      <td>en</td>\n",
       "      <td>5.0</td>\n",
       "      <td>just had ford ranger polished so pleased with ...</td>\n",
       "      <td>1.654364e+09</td>\n",
       "      <td>2022-06-04 17:31:51</td>\n",
       "      <td>ford ranger polished pleased results vehicle l...</td>\n",
       "      <td>ford ranger polished pleased result vehicle l...</td>\n",
       "    </tr>\n",
       "    <tr>\n",
       "      <th>22375</th>\n",
       "      <td>Super Hand Car Wash</td>\n",
       "      <td>53-55</td>\n",
       "      <td>Llangollen Road</td>\n",
       "      <td>Wrexham</td>\n",
       "      <td>Wrexham Principal Area</td>\n",
       "      <td>United Kingdom</td>\n",
       "      <td>LL14 3RS</td>\n",
       "      <td>5.0</td>\n",
       "      <td>en</td>\n",
       "      <td>5.0</td>\n",
       "      <td>the name says it all fantastic service great p...</td>\n",
       "      <td>1.641225e+09</td>\n",
       "      <td>2022-01-03 15:44:22</td>\n",
       "      <td>name says fantastic service great prices top q...</td>\n",
       "      <td>name say fantastic service great price top qu...</td>\n",
       "    </tr>\n",
       "    <tr>\n",
       "      <th>22376</th>\n",
       "      <td>Super Hand Car Wash</td>\n",
       "      <td>53-55</td>\n",
       "      <td>Llangollen Road</td>\n",
       "      <td>Wrexham</td>\n",
       "      <td>Wrexham Principal Area</td>\n",
       "      <td>United Kingdom</td>\n",
       "      <td>LL14 3RS</td>\n",
       "      <td>5.0</td>\n",
       "      <td>en</td>\n",
       "      <td>5.0</td>\n",
       "      <td>a brilliant super hand car wash drove away spa...</td>\n",
       "      <td>1.652984e+09</td>\n",
       "      <td>2022-05-19 18:06:27</td>\n",
       "      <td>brilliant super hand car wash drove away spark...</td>\n",
       "      <td>brilliant super hand car wash drove away spar...</td>\n",
       "    </tr>\n",
       "    <tr>\n",
       "      <th>22377</th>\n",
       "      <td>Super Hand Car Wash</td>\n",
       "      <td>53-55</td>\n",
       "      <td>Llangollen Road</td>\n",
       "      <td>Wrexham</td>\n",
       "      <td>Wrexham Principal Area</td>\n",
       "      <td>United Kingdom</td>\n",
       "      <td>LL14 3RS</td>\n",
       "      <td>5.0</td>\n",
       "      <td>en</td>\n",
       "      <td>5.0</td>\n",
       "      <td>always happy when my black and yellow fiesta c...</td>\n",
       "      <td>1.654781e+09</td>\n",
       "      <td>2022-06-09 13:28:00</td>\n",
       "      <td>always happy black yellow fiesta comes gleamin...</td>\n",
       "      <td>always happy black yellow fiesta come gleamin...</td>\n",
       "    </tr>\n",
       "    <tr>\n",
       "      <th>22378</th>\n",
       "      <td>Super Hand Car Wash</td>\n",
       "      <td>53-55</td>\n",
       "      <td>Llangollen Road</td>\n",
       "      <td>Wrexham</td>\n",
       "      <td>Wrexham Principal Area</td>\n",
       "      <td>United Kingdom</td>\n",
       "      <td>LL14 3RS</td>\n",
       "      <td>5.0</td>\n",
       "      <td>en</td>\n",
       "      <td>5.0</td>\n",
       "      <td>great hand car wash 7 for great clean friendly...</td>\n",
       "      <td>1.647286e+09</td>\n",
       "      <td>2022-03-14 19:29:04</td>\n",
       "      <td>great hand car wash 7 great clean friendly ser...</td>\n",
       "      <td>great hand car wash 7 great clean friendly se...</td>\n",
       "    </tr>\n",
       "  </tbody>\n",
       "</table>\n",
       "<p>22378 rows × 15 columns</p>\n",
       "</div>"
      ],
      "text/plain": [
       "             Business Name Street Number            Route Postal Town  \\\n",
       "0       Nails and the City            46    Kenyon Street  Birmingham   \n",
       "1       Nails and the City            46    Kenyon Street  Birmingham   \n",
       "2       Nails and the City            46    Kenyon Street  Birmingham   \n",
       "3       Nails and the City            46    Kenyon Street  Birmingham   \n",
       "4       Nails and the City            46    Kenyon Street  Birmingham   \n",
       "...                    ...           ...              ...         ...   \n",
       "22374  Super Hand Car Wash         53-55  Llangollen Road     Wrexham   \n",
       "22375  Super Hand Car Wash         53-55  Llangollen Road     Wrexham   \n",
       "22376  Super Hand Car Wash         53-55  Llangollen Road     Wrexham   \n",
       "22377  Super Hand Car Wash         53-55  Llangollen Road     Wrexham   \n",
       "22378  Super Hand Car Wash         53-55  Llangollen Road     Wrexham   \n",
       "\n",
       "                       County         Country  Postcode  Overall Rating  \\\n",
       "0               West Midlands  United Kingdom   B18 6AR             4.7   \n",
       "1               West Midlands  United Kingdom   B18 6AR             4.7   \n",
       "2               West Midlands  United Kingdom   B18 6AR             4.7   \n",
       "3               West Midlands  United Kingdom   B18 6AR             4.7   \n",
       "4               West Midlands  United Kingdom   B18 6AR             4.7   \n",
       "...                       ...             ...       ...             ...   \n",
       "22374  Wrexham Principal Area  United Kingdom  LL14 3RS             5.0   \n",
       "22375  Wrexham Principal Area  United Kingdom  LL14 3RS             5.0   \n",
       "22376  Wrexham Principal Area  United Kingdom  LL14 3RS             5.0   \n",
       "22377  Wrexham Principal Area  United Kingdom  LL14 3RS             5.0   \n",
       "22378  Wrexham Principal Area  United Kingdom  LL14 3RS             5.0   \n",
       "\n",
       "      Language  Rating                                 Review Description  \\\n",
       "0           en     5.0  have to say this is the best salon ive ever be...   \n",
       "1           en     5.0  nian is incredible ive been coming here for a ...   \n",
       "2           en     5.0  i got a new set of gels from tee who was so so...   \n",
       "3           en     5.0  i have been coming to this salon since i moved...   \n",
       "4           en     5.0  i had my nails done for the first time and i c...   \n",
       "...        ...     ...                                                ...   \n",
       "22374       en     5.0  just had ford ranger polished so pleased with ...   \n",
       "22375       en     5.0  the name says it all fantastic service great p...   \n",
       "22376       en     5.0  a brilliant super hand car wash drove away spa...   \n",
       "22377       en     5.0  always happy when my black and yellow fiesta c...   \n",
       "22378       en     5.0  great hand car wash 7 for great clean friendly...   \n",
       "\n",
       "               Time                 Date  \\\n",
       "0      1.652418e+09  2022-05-13 05:07:20   \n",
       "1      1.661441e+09  2022-08-25 15:22:45   \n",
       "2      1.658412e+09  2022-07-21 14:04:52   \n",
       "3      1.660734e+09  2022-08-17 10:57:00   \n",
       "4      1.659646e+09  2022-08-04 20:41:01   \n",
       "...             ...                  ...   \n",
       "22374  1.654364e+09  2022-06-04 17:31:51   \n",
       "22375  1.641225e+09  2022-01-03 15:44:22   \n",
       "22376  1.652984e+09  2022-05-19 18:06:27   \n",
       "22377  1.654781e+09  2022-06-09 13:28:00   \n",
       "22378  1.647286e+09  2022-03-14 19:29:04   \n",
       "\n",
       "                                        processed review  \\\n",
       "0      say best salon ive ever 4 weeks lifting acryli...   \n",
       "1      nian incredible ive coming couple months every...   \n",
       "2      got new set gels tee lovely chat helped choose...   \n",
       "3      coming salon since moved birmingham took find ...   \n",
       "4      nails done first time say place super cozy gir...   \n",
       "...                                                  ...   \n",
       "22374  ford ranger polished pleased results vehicle l...   \n",
       "22375  name says fantastic service great prices top q...   \n",
       "22376  brilliant super hand car wash drove away spark...   \n",
       "22377  always happy black yellow fiesta comes gleamin...   \n",
       "22378  great hand car wash 7 great clean friendly ser...   \n",
       "\n",
       "                                       lemmatized review  \n",
       "0       say best salon ive ever 4 week lifting acryli...  \n",
       "1       nian incredible ive coming couple month every...  \n",
       "2       got new set gel tee lovely chat helped choose...  \n",
       "3       coming salon since moved birmingham took find...  \n",
       "4       nail done first time say place super cozy gir...  \n",
       "...                                                  ...  \n",
       "22374   ford ranger polished pleased result vehicle l...  \n",
       "22375   name say fantastic service great price top qu...  \n",
       "22376   brilliant super hand car wash drove away spar...  \n",
       "22377   always happy black yellow fiesta come gleamin...  \n",
       "22378   great hand car wash 7 great clean friendly se...  \n",
       "\n",
       "[22378 rows x 15 columns]"
      ]
     },
     "execution_count": 4,
     "metadata": {},
     "output_type": "execute_result"
    }
   ],
   "source": [
    "df = pd.read_csv(\"../data/review_dataset.csv\")\n",
    "df = pd.dfFrame(df)\n",
    "df.dropna()\n",
    "\n"
   ]
  },
  {
   "cell_type": "code",
   "execution_count": 5,
   "metadata": {},
   "outputs": [
    {
     "name": "stdout",
     "output_type": "stream",
     "text": [
      "                                           Business Name Street Number  \\\n",
      "8437          Northwood Dundee Letting and Estate agents             2   \n",
      "12981  DB Roberts Property Centres - Estate agents in...            18   \n",
      "10656        haart estate and lettings agents Nottingham         16/18   \n",
      "10552           haart estate and lettings agents Norwich            18   \n",
      "11616      Haybrook lettings agents Sheffield (Lettings)         43-45   \n",
      "8134           haart estate and lettings agents Coventry         15-17   \n",
      "10363         Northwood inc Bowes Mitchell Estate agents           172   \n",
      "10210     haart estate and lettings agents Milton Keynes           897   \n",
      "7640                   Darlows estate agents Albany Road           101   \n",
      "8234              haart estate and lettings agents Derby            24   \n",
      "11769               haart estate agents Westcliff On Sea       190-194   \n",
      "8719                             haart estate agents Ely            1a   \n",
      "8780                          haart estate agents Exeter           26a   \n",
      "10268  Chewton Rose estate agents Milton Keynes (Chew...           897   \n",
      "1339                                    Nails By Magenta            76   \n",
      "9463                           haart estate agents Leeds            80   \n",
      "18910                           1st Avenue estate agents           121   \n",
      "\n",
      "                         Route          Postal Town               County  \\\n",
      "8437            Panmure Street               Dundee  Dundee City Council   \n",
      "12981        Darlington Street        Wolverhampton        West Midlands   \n",
      "10656  Upper Parliament Street           Nottingham           Nottingham   \n",
      "10552             Queen Street              Norwich              Norfolk   \n",
      "11616            Church Street            Sheffield      South Yorkshire   \n",
      "8134               Warwick Row             Coventry        West Midlands   \n",
      "10363              Benton Road  Newcastle upon Tyne        Tyne and Wear   \n",
      "10210        Silbury Boulevard        Milton Keynes        Milton Keynes   \n",
      "7640               Albany Road              Cardiff              Cardiff   \n",
      "8234               Corn Market                Derby                Derby   \n",
      "11769        Hamlet Court Road     Westcliff-on-Sea      Southend-on-Sea   \n",
      "8719                 Fore Hill                  Ely       Cambridgeshire   \n",
      "8780          Longbrook Street               Exeter                Devon   \n",
      "10268        Silbury Boulevard        Milton Keynes        Milton Keynes   \n",
      "1339               Salerno Way           Chelmsford                Essex   \n",
      "9463               York Street                Leeds       West Yorkshire   \n",
      "18910               Nethergate               Dundee  Dundee City Council   \n",
      "\n",
      "              Country  Postcode  Overall Rating Language  Rating  \\\n",
      "8437   United Kingdom   DD1 2BW             4.1       en     5.0   \n",
      "12981  United Kingdom   WV1 4HW             4.4       en     5.0   \n",
      "10656  United Kingdom   NG1 2AD             4.5       en     5.0   \n",
      "10552  United Kingdom   NR2 4SQ             4.6       en     5.0   \n",
      "11616  United Kingdom    S1 2GL             4.6       en     5.0   \n",
      "8134   United Kingdom   CV1 1EX             4.6       en     5.0   \n",
      "10363  United Kingdom   NE7 7UH             4.7       en     5.0   \n",
      "10210  United Kingdom   MK9 3XJ             4.7       en     5.0   \n",
      "7640   United Kingdom  CF24 3LP             4.7       en     5.0   \n",
      "8234   United Kingdom   DE1 2DP             4.7       en     5.0   \n",
      "11769  United Kingdom   SS0 7LJ             4.8       en     5.0   \n",
      "8719   United Kingdom   CB7 4AA             4.9       en     5.0   \n",
      "8780   United Kingdom   EX4 6AB             4.9       en     5.0   \n",
      "10268  United Kingdom   MK9 3XJ             4.9       en     5.0   \n",
      "1339   United Kingdom   CM1 2EH             5.0       en     5.0   \n",
      "9463   United Kingdom   LS9 8AA             5.0       en     5.0   \n",
      "18910  United Kingdom   DD1 4DW             5.0       en     5.0   \n",
      "\n",
      "                                      Review Description          Time  \\\n",
      "8437   we have been clients of northwoods for over 8 ...  1.643725e+09   \n",
      "12981  as first time buyers we were grateful for the ...  1.648571e+09   \n",
      "10656  sean did an amazing job helping me rent a prop...  1.651259e+09   \n",
      "10552  i would like to thank charlotte smith for all ...  1.645250e+09   \n",
      "11616  excellent customer service from tom aspinal he...  1.652807e+09   \n",
      "8134   i have been with heart now for 7 years and hav...  1.653301e+09   \n",
      "10363  i used bm 14yrs ago or so and there was no que...  1.644960e+09   \n",
      "10210  excellent service knowledge and guidance from ...  1.661154e+09   \n",
      "7640   i would like to recommend darlows estate agent...  1.655301e+09   \n",
      "8234   we would like to thank property manager rami h...  1.661535e+09   \n",
      "11769  we dealt with natalieclaire on a number of occ...  1.645460e+09   \n",
      "8719   we have had great service so far from harts ca...  1.644350e+09   \n",
      "8780   i could not have asked for a smoother moving p...  1.646131e+09   \n",
      "10268  on my first ever visit to milton keynes having...  1.646080e+09   \n",
      "1339   i have been going to magenta for my nails and ...  1.620808e+09   \n",
      "9463   haart leeds absolutely first class service fro...  1.660413e+09   \n",
      "18910  1st avenue and gareth were both excellent with...  1.500892e+09   \n",
      "\n",
      "                      Date                                   processed review  \\\n",
      "8437   2022-02-01 14:22:11  clients northwoods 8 years acted us letting ho...   \n",
      "12981  2022-03-29 16:28:37  first time buyers grateful guidance help kiri ...   \n",
      "10656  2022-04-29 18:57:02  sean amazing job helping rent property start f...   \n",
      "10552  2022-02-19 05:47:22  would like thank charlotte smith hard work hel...   \n",
      "11616  2022-05-17 17:08:03  excellent customer service tom aspinal kept in...   \n",
      "8134   2022-05-23 10:08:40  heart 7 years excellent service throughout tim...   \n",
      "10363  2022-02-15 21:24:42  used bm 14yrs ago question using bm recently s...   \n",
      "10210  2022-08-22 07:40:49  excellent service knowledge guidance jack baco...   \n",
      "7640   2022-06-15 13:41:57  would like recommend darlows estate agents alb...   \n",
      "8234   2022-08-26 17:32:50  would like thank property manager rami hariri ...   \n",
      "11769  2022-02-21 16:09:43  dealt natalieclaire number occasions property ...   \n",
      "8719   2022-02-08 19:57:51  great service far harts caroline brilliant ret...   \n",
      "8780   2022-03-01 10:34:09  could asked smoother moving process charlotte ...   \n",
      "10268  2022-02-28 20:29:13  first ever visit milton keynes read bits onlin...   \n",
      "1339   2021-05-12 08:23:27  going magenta nails eyebrow wax always extreme...   \n",
      "9463   2022-08-13 17:47:38  haart leeds absolutely first class service fir...   \n",
      "18910  2017-07-24 10:33:25  1st avenue gareth excellent recent home sale 1...   \n",
      "\n",
      "                                       lemmatized review  \n",
      "8437    client northwoods 8 year acted u letting hous...  \n",
      "12981   first time buyer grateful guidance help kiri ...  \n",
      "10656   sean amazing job helping rent property start ...  \n",
      "10552   would like thank charlotte smith hard work he...  \n",
      "11616   excellent customer service tom aspinal kept i...  \n",
      "8134    heart 7 year excellent service throughout tim...  \n",
      "10363   used bm 14yrs ago question using bm recently ...  \n",
      "10210   excellent service knowledge guidance jack bac...  \n",
      "7640    would like recommend darlows estate agent alb...  \n",
      "8234    would like thank property manager ramus harir...  \n",
      "11769   dealt natalieclaire number occasion property ...  \n",
      "8719    great service far hart caroline brilliant ret...  \n",
      "8780    could asked smoother moving process charlotte...  \n",
      "10268   first ever visit milton keynes read bit onlin...  \n",
      "1339    going magenta nail eyebrow wax always extreme...  \n",
      "9463    haart leeds absolutely first class service fi...  \n",
      "18910   1st avenue gareth excellent recent home sale ...  \n"
     ]
    }
   ],
   "source": [
    "\n",
    "userbusiness = df[df[\"Business Name\"].str.contains(r'{}'.format(user_input),na=True)]\n",
    "userbusiness = userbusiness.sort_values('Overall Rating')\n",
    "userbusiness = userbusiness.drop_duplicates(subset=[\"Business Name\"])\n",
    "print(userbusiness.head(20))"
   ]
  },
  {
   "cell_type": "code",
   "execution_count": 6,
   "metadata": {},
   "outputs": [
    {
     "data": {
      "text/plain": [
       "[Text(0, 0, '4.1'),\n",
       " Text(0, 0, '4.4'),\n",
       " Text(0, 0, '4.5'),\n",
       " Text(0, 0, '4.6'),\n",
       " Text(0, 0, '4.6'),\n",
       " Text(0, 0, '4.6'),\n",
       " Text(0, 0, '4.7'),\n",
       " Text(0, 0, '4.7'),\n",
       " Text(0, 0, '4.7'),\n",
       " Text(0, 0, '4.7'),\n",
       " Text(0, 0, '4.8'),\n",
       " Text(0, 0, '4.9'),\n",
       " Text(0, 0, '4.9'),\n",
       " Text(0, 0, '4.9'),\n",
       " Text(0, 0, '5'),\n",
       " Text(0, 0, '5'),\n",
       " Text(0, 0, '5')]"
      ]
     },
     "execution_count": 6,
     "metadata": {},
     "output_type": "execute_result"
    },
    {
     "data": {
      "image/png": "[encoded data removed]",
      "text/plain": [
       "<Figure size 2500x500 with 1 Axes>"
      ]
     },
     "metadata": {},
     "output_type": "display_data"
    }
   ],
   "source": [
    "ax = userbusiness.plot.bar(x='Business Name',y='Overall Rating',figsize=(25,5))\n",
    "ax.bar_label(ax.containers[0])"
   ]
  },
  {
   "cell_type": "code",
   "execution_count": 7,
   "metadata": {},
   "outputs": [],
   "source": [
    "#potentially all businesss reviews and number of each rating that appear, possibly only interested in bad reviews so may be worth filtering them out"
   ]
  },
  {
   "cell_type": "code",
   "execution_count": 8,
   "metadata": {},
   "outputs": [],
   "source": [
    "from afinn import Afinn                                             \n",
    "import plotly.graph_objs as go                                      \n",
    "from sklearn.preprocessing import StandardScaler                     \n",
    "from sklearn.cluster import KMeans"
   ]
  },
  {
   "cell_type": "code",
   "execution_count": 9,
   "metadata": {},
   "outputs": [],
   "source": [
    "labels = df['Rating'].value_counts().index\n",
    "value = df['Rating'].value_counts().values"
   ]
  },
  {
   "cell_type": "code",
   "execution_count": 10,
   "metadata": {},
   "outputs": [
    {
     "data": {
      "application/vnd.plotly.v1+json": {
       "config": {
        "plotlyServerURL": "https://plot.ly"
       },
       "data": [
        {
         "type": "bar",
         "x": [
          5,
          1,
          4,
          2,
          3
         ],
         "y": [
          17463,
          2912,
          911,
          615,
          478
         ]
        }
       ],
       "layout": {
        "height": 500,
        "template": {
         "data": {
          "bar": [
           {
            "error_x": {
             "color": "#2a3f5f"
            },
            "error_y": {
             "color": "#2a3f5f"
            },
            "marker": {
             "line": {
              "color": "#E5ECF6",
              "width": 0.5
             },
             "pattern": {
              "fillmode": "overlay",
              "size": 10,
              "solidity": 0.2
             }
            },
            "type": "bar"
           }
          ],
          "barpolar": [
           {
            "marker": {
             "line": {
              "color": "#E5ECF6",
              "width": 0.5
             },
             "pattern": {
              "fillmode": "overlay",
              "size": 10,
              "solidity": 0.2
             }
            },
            "type": "barpolar"
           }
          ],
          "carpet": [
           {
            "aaxis": {
             "endlinecolor": "#2a3f5f",
             "gridcolor": "white",
             "linecolor": "white",
             "minorgridcolor": "white",
             "startlinecolor": "#2a3f5f"
            },
            "baxis": {
             "endlinecolor": "#2a3f5f",
             "gridcolor": "white",
             "linecolor": "white",
             "minorgridcolor": "white",
             "startlinecolor": "#2a3f5f"
            },
            "type": "carpet"
           }
          ],
          "choropleth": [
           {
            "colorbar": {
             "outlinewidth": 0,
             "ticks": ""
            },
            "type": "choropleth"
           }
          ],
          "contour": [
           {
            "colorbar": {
             "outlinewidth": 0,
             "ticks": ""
            },
            "colorscale": [
             [
              0,
              "#0d0887"
             ],
             [
              0.1111111111111111,
              "#46039f"
             ],
             [
              0.2222222222222222,
              "#7201a8"
             ],
             [
              0.3333333333333333,
              "#9c179e"
             ],
             [
              0.4444444444444444,
              "#bd3786"
             ],
             [
              0.5555555555555556,
              "#d8576b"
             ],
             [
              0.6666666666666666,
              "#ed7953"
             ],
             [
              0.7777777777777778,
              "#fb9f3a"
             ],
             [
              0.8888888888888888,
              "#fdca26"
             ],
             [
              1,
              "#f0f921"
             ]
            ],
            "type": "contour"
           }
          ],
          "contourcarpet": [
           {
            "colorbar": {
             "outlinewidth": 0,
             "ticks": ""
            },
            "type": "contourcarpet"
           }
          ],
          "heatmap": [
           {
            "colorbar": {
             "outlinewidth": 0,
             "ticks": ""
            },
            "colorscale": [
             [
              0,
              "#0d0887"
             ],
             [
              0.1111111111111111,
              "#46039f"
             ],
             [
              0.2222222222222222,
              "#7201a8"
             ],
             [
              0.3333333333333333,
              "#9c179e"
             ],
             [
              0.4444444444444444,
              "#bd3786"
             ],
             [
              0.5555555555555556,
              "#d8576b"
             ],
             [
              0.6666666666666666,
              "#ed7953"
             ],
             [
              0.7777777777777778,
              "#fb9f3a"
             ],
             [
              0.8888888888888888,
              "#fdca26"
             ],
             [
              1,
              "#f0f921"
             ]
            ],
            "type": "heatmap"
           }
          ],
          "heatmapgl": [
           {
            "colorbar": {
             "outlinewidth": 0,
             "ticks": ""
            },
            "colorscale": [
             [
              0,
              "#0d0887"
             ],
             [
              0.1111111111111111,
              "#46039f"
             ],
             [
              0.2222222222222222,
              "#7201a8"
             ],
             [
              0.3333333333333333,
              "#9c179e"
             ],
             [
              0.4444444444444444,
              "#bd3786"
             ],
             [
              0.5555555555555556,
              "#d8576b"
             ],
             [
              0.6666666666666666,
              "#ed7953"
             ],
             [
              0.7777777777777778,
              "#fb9f3a"
             ],
             [
              0.8888888888888888,
              "#fdca26"
             ],
             [
              1,
              "#f0f921"
             ]
            ],
            "type": "heatmapgl"
           }
          ],
          "histogram": [
           {
            "marker": {
             "pattern": {
              "fillmode": "overlay",
              "size": 10,
              "solidity": 0.2
             }
            },
            "type": "histogram"
           }
          ],
          "histogram2d": [
           {
            "colorbar": {
             "outlinewidth": 0,
             "ticks": ""
            },
            "colorscale": [
             [
              0,
              "#0d0887"
             ],
             [
              0.1111111111111111,
              "#46039f"
             ],
             [
              0.2222222222222222,
              "#7201a8"
             ],
             [
              0.3333333333333333,
              "#9c179e"
             ],
             [
              0.4444444444444444,
              "#bd3786"
             ],
             [
              0.5555555555555556,
              "#d8576b"
             ],
             [
              0.6666666666666666,
              "#ed7953"
             ],
             [
              0.7777777777777778,
              "#fb9f3a"
             ],
             [
              0.8888888888888888,
              "#fdca26"
             ],
             [
              1,
              "#f0f921"
             ]
            ],
            "type": "histogram2d"
           }
          ],
          "histogram2dcontour": [
           {
            "colorbar": {
             "outlinewidth": 0,
             "ticks": ""
            },
            "colorscale": [
             [
              0,
              "#0d0887"
             ],
             [
              0.1111111111111111,
              "#46039f"
             ],
             [
              0.2222222222222222,
              "#7201a8"
             ],
             [
              0.3333333333333333,
              "#9c179e"
             ],
             [
              0.4444444444444444,
              "#bd3786"
             ],
             [
              0.5555555555555556,
              "#d8576b"
             ],
             [
              0.6666666666666666,
              "#ed7953"
             ],
             [
              0.7777777777777778,
              "#fb9f3a"
             ],
             [
              0.8888888888888888,
              "#fdca26"
             ],
             [
              1,
              "#f0f921"
             ]
            ],
            "type": "histogram2dcontour"
           }
          ],
          "mesh3d": [
           {
            "colorbar": {
             "outlinewidth": 0,
             "ticks": ""
            },
            "type": "mesh3d"
           }
          ],
          "parcoords": [
           {
            "line": {
             "colorbar": {
              "outlinewidth": 0,
              "ticks": ""
             }
            },
            "type": "parcoords"
           }
          ],
          "pie": [
           {
            "automargin": true,
            "type": "pie"
           }
          ],
          "scatter": [
           {
            "fillpattern": {
             "fillmode": "overlay",
             "size": 10,
             "solidity": 0.2
            },
            "type": "scatter"
           }
          ],
          "scatter3d": [
           {
            "line": {
             "colorbar": {
              "outlinewidth": 0,
              "ticks": ""
             }
            },
            "marker": {
             "colorbar": {
              "outlinewidth": 0,
              "ticks": ""
             }
            },
            "type": "scatter3d"
           }
          ],
          "scattercarpet": [
           {
            "marker": {
             "colorbar": {
              "outlinewidth": 0,
              "ticks": ""
             }
            },
            "type": "scattercarpet"
           }
          ],
          "scattergeo": [
           {
            "marker": {
             "colorbar": {
              "outlinewidth": 0,
              "ticks": ""
             }
            },
            "type": "scattergeo"
           }
          ],
          "scattergl": [
           {
            "marker": {
             "colorbar": {
              "outlinewidth": 0,
              "ticks": ""
             }
            },
            "type": "scattergl"
           }
          ],
          "scattermapbox": [
           {
            "marker": {
             "colorbar": {
              "outlinewidth": 0,
              "ticks": ""
             }
            },
            "type": "scattermapbox"
           }
          ],
          "scatterpolar": [
           {
            "marker": {
             "colorbar": {
              "outlinewidth": 0,
              "ticks": ""
             }
            },
            "type": "scatterpolar"
           }
          ],
          "scatterpolargl": [
           {
            "marker": {
             "colorbar": {
              "outlinewidth": 0,
              "ticks": ""
             }
            },
            "type": "scatterpolargl"
           }
          ],
          "scatterternary": [
           {
            "marker": {
             "colorbar": {
              "outlinewidth": 0,
              "ticks": ""
             }
            },
            "type": "scatterternary"
           }
          ],
          "surface": [
           {
            "colorbar": {
             "outlinewidth": 0,
             "ticks": ""
            },
            "colorscale": [
             [
              0,
              "#0d0887"
             ],
             [
              0.1111111111111111,
              "#46039f"
             ],
             [
              0.2222222222222222,
              "#7201a8"
             ],
             [
              0.3333333333333333,
              "#9c179e"
             ],
             [
              0.4444444444444444,
              "#bd3786"
             ],
             [
              0.5555555555555556,
              "#d8576b"
             ],
             [
              0.6666666666666666,
              "#ed7953"
             ],
             [
              0.7777777777777778,
              "#fb9f3a"
             ],
             [
              0.8888888888888888,
              "#fdca26"
             ],
             [
              1,
              "#f0f921"
             ]
            ],
            "type": "surface"
           }
          ],
          "table": [
           {
            "cells": {
             "fill": {
              "color": "#EBF0F8"
             },
             "line": {
              "color": "white"
             }
            },
            "header": {
             "fill": {
              "color": "#C8D4E3"
             },
             "line": {
              "color": "white"
             }
            },
            "type": "table"
           }
          ]
         },
         "layout": {
          "annotationdefaults": {
           "arrowcolor": "#2a3f5f",
           "arrowhead": 0,
           "arrowwidth": 1
          },
          "autotypenumbers": "strict",
          "coloraxis": {
           "colorbar": {
            "outlinewidth": 0,
            "ticks": ""
           }
          },
          "colorscale": {
           "diverging": [
            [
             0,
             "#8e0152"
            ],
            [
             0.1,
             "#c51b7d"
            ],
            [
             0.2,
             "#de77ae"
            ],
            [
             0.3,
             "#f1b6da"
            ],
            [
             0.4,
             "#fde0ef"
            ],
            [
             0.5,
             "#f7f7f7"
            ],
            [
             0.6,
             "#e6f5d0"
            ],
            [
             0.7,
             "#b8e186"
            ],
            [
             0.8,
             "#7fbc41"
            ],
            [
             0.9,
             "#4d9221"
            ],
            [
             1,
             "#276419"
            ]
           ],
           "sequential": [
            [
             0,
             "#0d0887"
            ],
            [
             0.1111111111111111,
             "#46039f"
            ],
            [
             0.2222222222222222,
             "#7201a8"
            ],
            [
             0.3333333333333333,
             "#9c179e"
            ],
            [
             0.4444444444444444,
             "#bd3786"
            ],
            [
             0.5555555555555556,
             "#d8576b"
            ],
            [
             0.6666666666666666,
             "#ed7953"
            ],
            [
             0.7777777777777778,
             "#fb9f3a"
            ],
            [
             0.8888888888888888,
             "#fdca26"
            ],
            [
             1,
             "#f0f921"
            ]
           ],
           "sequentialminus": [
            [
             0,
             "#0d0887"
            ],
            [
             0.1111111111111111,
             "#46039f"
            ],
            [
             0.2222222222222222,
             "#7201a8"
            ],
            [
             0.3333333333333333,
             "#9c179e"
            ],
            [
             0.4444444444444444,
             "#bd3786"
            ],
            [
             0.5555555555555556,
             "#d8576b"
            ],
            [
             0.6666666666666666,
             "#ed7953"
            ],
            [
             0.7777777777777778,
             "#fb9f3a"
            ],
            [
             0.8888888888888888,
             "#fdca26"
            ],
            [
             1,
             "#f0f921"
            ]
           ]
          },
          "colorway": [
           "#636efa",
           "#EF553B",
           "#00cc96",
           "#ab63fa",
           "#FFA15A",
           "#19d3f3",
           "#FF6692",
           "#B6E880",
           "#FF97FF",
           "#FECB52"
          ],
          "font": {
           "color": "#2a3f5f"
          },
          "geo": {
           "bgcolor": "white",
           "lakecolor": "white",
           "landcolor": "#E5ECF6",
           "showlakes": true,
           "showland": true,
           "subunitcolor": "white"
          },
          "hoverlabel": {
           "align": "left"
          },
          "hovermode": "closest",
          "mapbox": {
           "style": "light"
          },
          "paper_bgcolor": "white",
          "plot_bgcolor": "#E5ECF6",
          "polar": {
           "angularaxis": {
            "gridcolor": "white",
            "linecolor": "white",
            "ticks": ""
           },
           "bgcolor": "#E5ECF6",
           "radialaxis": {
            "gridcolor": "white",
            "linecolor": "white",
            "ticks": ""
           }
          },
          "scene": {
           "xaxis": {
            "backgroundcolor": "#E5ECF6",
            "gridcolor": "white",
            "gridwidth": 2,
            "linecolor": "white",
            "showbackground": true,
            "ticks": "",
            "zerolinecolor": "white"
           },
           "yaxis": {
            "backgroundcolor": "#E5ECF6",
            "gridcolor": "white",
            "gridwidth": 2,
            "linecolor": "white",
            "showbackground": true,
            "ticks": "",
            "zerolinecolor": "white"
           },
           "zaxis": {
            "backgroundcolor": "#E5ECF6",
            "gridcolor": "white",
            "gridwidth": 2,
            "linecolor": "white",
            "showbackground": true,
            "ticks": "",
            "zerolinecolor": "white"
           }
          },
          "shapedefaults": {
           "line": {
            "color": "#2a3f5f"
           }
          },
          "ternary": {
           "aaxis": {
            "gridcolor": "white",
            "linecolor": "white",
            "ticks": ""
           },
           "baxis": {
            "gridcolor": "white",
            "linecolor": "white",
            "ticks": ""
           },
           "bgcolor": "#E5ECF6",
           "caxis": {
            "gridcolor": "white",
            "linecolor": "white",
            "ticks": ""
           }
          },
          "title": {
           "x": 0.05
          },
          "xaxis": {
           "automargin": true,
           "gridcolor": "white",
           "linecolor": "white",
           "ticks": "",
           "title": {
            "standoff": 15
           },
           "zerolinecolor": "white",
           "zerolinewidth": 2
          },
          "yaxis": {
           "automargin": true,
           "gridcolor": "white",
           "linecolor": "white",
           "ticks": "",
           "title": {
            "standoff": 15
           },
           "zerolinecolor": "white",
           "zerolinewidth": 2
          }
         }
        },
        "title": {
         "text": "Frequency Distribution of Rating",
         "x": 0.5
        },
        "width": 1000,
        "xaxis": {
         "title": {
          "text": "Rating"
         }
        },
        "yaxis": {
         "title": {
          "text": "Frequency"
         }
        }
       }
      }
     },
     "metadata": {},
     "output_type": "display_data"
    }
   ],
   "source": [
    "fig = go.Figure()\n",
    "fig.add_trace(trace=go.Bar(x=labels,y=value))\n",
    "\n",
    "fig.update_layout(height=500,\n",
    "                width=1000,\n",
    "                title_text='Frequency Distribution of Rating',\n",
    "                title_x=0.5,\n",
    "                yaxis_title='Frequency',\n",
    "                xaxis_title='Rating')\n",
    "\n",
    "fig.show()"
   ]
  },
  {
   "cell_type": "code",
   "execution_count": 12,
   "metadata": {},
   "outputs": [],
   "source": [
    "afinn = Afinn()\n",
    "df['Sentiment Score'] = df.apply(lambda row: afinn.score(row['lemmatized review']),axis=1) "
   ]
  },
  {
   "cell_type": "code",
   "execution_count": 14,
   "metadata": {},
   "outputs": [
    {
     "data": {
      "application/vnd.plotly.v1+json": {
       "config": {
        "plotlyServerURL": "https://plot.ly"
       },
       "data": [
        {
         "marker": {
          "color": "#34A853"
         },
         "name": "Positive Sentiments",
         "type": "bar",
         "width": 0.4,
         "x": [
          6,
          8,
          5,
          7,
          3,
          9,
          10,
          11,
          12,
          4,
          2,
          13,
          14,
          15,
          16,
          1,
          17,
          18,
          19,
          20,
          21,
          22,
          23,
          24,
          25,
          26,
          27,
          28,
          30,
          29,
          31,
          36,
          32,
          34,
          33,
          41,
          35,
          38,
          39,
          40,
          43,
          37,
          55,
          46,
          42
         ],
         "y": [
          1529,
          1475,
          1464,
          1403,
          1365,
          1342,
          1252,
          1169,
          987,
          952,
          852,
          831,
          760,
          657,
          501,
          477,
          450,
          355,
          286,
          256,
          184,
          159,
          128,
          108,
          82,
          78,
          56,
          46,
          34,
          30,
          19,
          12,
          12,
          11,
          10,
          9,
          9,
          6,
          5,
          5,
          2,
          2,
          1,
          1,
          1
         ]
        },
        {
         "marker": {
          "color": "#35363A"
         },
         "name": "Neutral Sentiments",
         "type": "bar",
         "width": 0.4,
         "x": [
          0
         ],
         "y": [
          753
         ]
        },
        {
         "marker": {
          "color": "#ed7d31"
         },
         "name": "Negative Sentiments",
         "type": "bar",
         "width": 0.4,
         "x": [
          -2,
          -1,
          -3,
          -5,
          -4,
          -6,
          -7,
          -8,
          -9,
          -10,
          -11,
          -12,
          -13,
          -14,
          -15,
          -17,
          -16,
          -18,
          -20,
          -19,
          -25,
          -22,
          -24,
          -23,
          -29,
          -21,
          -30
         ],
         "y": [
          380,
          340,
          284,
          230,
          222,
          169,
          128,
          113,
          99,
          73,
          43,
          42,
          29,
          28,
          16,
          15,
          11,
          10,
          8,
          4,
          2,
          2,
          1,
          1,
          1,
          1,
          1
         ]
        }
       ],
       "layout": {
        "height": 500,
        "template": {
         "data": {
          "bar": [
           {
            "error_x": {
             "color": "#2a3f5f"
            },
            "error_y": {
             "color": "#2a3f5f"
            },
            "marker": {
             "line": {
              "color": "#E5ECF6",
              "width": 0.5
             },
             "pattern": {
              "fillmode": "overlay",
              "size": 10,
              "solidity": 0.2
             }
            },
            "type": "bar"
           }
          ],
          "barpolar": [
           {
            "marker": {
             "line": {
              "color": "#E5ECF6",
              "width": 0.5
             },
             "pattern": {
              "fillmode": "overlay",
              "size": 10,
              "solidity": 0.2
             }
            },
            "type": "barpolar"
           }
          ],
          "carpet": [
           {
            "aaxis": {
             "endlinecolor": "#2a3f5f",
             "gridcolor": "white",
             "linecolor": "white",
             "minorgridcolor": "white",
             "startlinecolor": "#2a3f5f"
            },
            "baxis": {
             "endlinecolor": "#2a3f5f",
             "gridcolor": "white",
             "linecolor": "white",
             "minorgridcolor": "white",
             "startlinecolor": "#2a3f5f"
            },
            "type": "carpet"
           }
          ],
          "choropleth": [
           {
            "colorbar": {
             "outlinewidth": 0,
             "ticks": ""
            },
            "type": "choropleth"
           }
          ],
          "contour": [
           {
            "colorbar": {
             "outlinewidth": 0,
             "ticks": ""
            },
            "colorscale": [
             [
              0,
              "#0d0887"
             ],
             [
              0.1111111111111111,
              "#46039f"
             ],
             [
              0.2222222222222222,
              "#7201a8"
             ],
             [
              0.3333333333333333,
              "#9c179e"
             ],
             [
              0.4444444444444444,
              "#bd3786"
             ],
             [
              0.5555555555555556,
              "#d8576b"
             ],
             [
              0.6666666666666666,
              "#ed7953"
             ],
             [
              0.7777777777777778,
              "#fb9f3a"
             ],
             [
              0.8888888888888888,
              "#fdca26"
             ],
             [
              1,
              "#f0f921"
             ]
            ],
            "type": "contour"
           }
          ],
          "contourcarpet": [
           {
            "colorbar": {
             "outlinewidth": 0,
             "ticks": ""
            },
            "type": "contourcarpet"
           }
          ],
          "heatmap": [
           {
            "colorbar": {
             "outlinewidth": 0,
             "ticks": ""
            },
            "colorscale": [
             [
              0,
              "#0d0887"
             ],
             [
              0.1111111111111111,
              "#46039f"
             ],
             [
              0.2222222222222222,
              "#7201a8"
             ],
             [
              0.3333333333333333,
              "#9c179e"
             ],
             [
              0.4444444444444444,
              "#bd3786"
             ],
             [
              0.5555555555555556,
              "#d8576b"
             ],
             [
              0.6666666666666666,
              "#ed7953"
             ],
             [
              0.7777777777777778,
              "#fb9f3a"
             ],
             [
              0.8888888888888888,
              "#fdca26"
             ],
             [
              1,
              "#f0f921"
             ]
            ],
            "type": "heatmap"
           }
          ],
          "heatmapgl": [
           {
            "colorbar": {
             "outlinewidth": 0,
             "ticks": ""
            },
            "colorscale": [
             [
              0,
              "#0d0887"
             ],
             [
              0.1111111111111111,
              "#46039f"
             ],
             [
              0.2222222222222222,
              "#7201a8"
             ],
             [
              0.3333333333333333,
              "#9c179e"
             ],
             [
              0.4444444444444444,
              "#bd3786"
             ],
             [
              0.5555555555555556,
              "#d8576b"
             ],
             [
              0.6666666666666666,
              "#ed7953"
             ],
             [
              0.7777777777777778,
              "#fb9f3a"
             ],
             [
              0.8888888888888888,
              "#fdca26"
             ],
             [
              1,
              "#f0f921"
             ]
            ],
            "type": "heatmapgl"
           }
          ],
          "histogram": [
           {
            "marker": {
             "pattern": {
              "fillmode": "overlay",
              "size": 10,
              "solidity": 0.2
             }
            },
            "type": "histogram"
           }
          ],
          "histogram2d": [
           {
            "colorbar": {
             "outlinewidth": 0,
             "ticks": ""
            },
            "colorscale": [
             [
              0,
              "#0d0887"
             ],
             [
              0.1111111111111111,
              "#46039f"
             ],
             [
              0.2222222222222222,
              "#7201a8"
             ],
             [
              0.3333333333333333,
              "#9c179e"
             ],
             [
              0.4444444444444444,
              "#bd3786"
             ],
             [
              0.5555555555555556,
              "#d8576b"
             ],
             [
              0.6666666666666666,
              "#ed7953"
             ],
             [
              0.7777777777777778,
              "#fb9f3a"
             ],
             [
              0.8888888888888888,
              "#fdca26"
             ],
             [
              1,
              "#f0f921"
             ]
            ],
            "type": "histogram2d"
           }
          ],
          "histogram2dcontour": [
           {
            "colorbar": {
             "outlinewidth": 0,
             "ticks": ""
            },
            "colorscale": [
             [
              0,
              "#0d0887"
             ],
             [
              0.1111111111111111,
              "#46039f"
             ],
             [
              0.2222222222222222,
              "#7201a8"
             ],
             [
              0.3333333333333333,
              "#9c179e"
             ],
             [
              0.4444444444444444,
              "#bd3786"
             ],
             [
              0.5555555555555556,
              "#d8576b"
             ],
             [
              0.6666666666666666,
              "#ed7953"
             ],
             [
              0.7777777777777778,
              "#fb9f3a"
             ],
             [
              0.8888888888888888,
              "#fdca26"
             ],
             [
              1,
              "#f0f921"
             ]
            ],
            "type": "histogram2dcontour"
           }
          ],
          "mesh3d": [
           {
            "colorbar": {
             "outlinewidth": 0,
             "ticks": ""
            },
            "type": "mesh3d"
           }
          ],
          "parcoords": [
           {
            "line": {
             "colorbar": {
              "outlinewidth": 0,
              "ticks": ""
             }
            },
            "type": "parcoords"
           }
          ],
          "pie": [
           {
            "automargin": true,
            "type": "pie"
           }
          ],
          "scatter": [
           {
            "fillpattern": {
             "fillmode": "overlay",
             "size": 10,
             "solidity": 0.2
            },
            "type": "scatter"
           }
          ],
          "scatter3d": [
           {
            "line": {
             "colorbar": {
              "outlinewidth": 0,
              "ticks": ""
             }
            },
            "marker": {
             "colorbar": {
              "outlinewidth": 0,
              "ticks": ""
             }
            },
            "type": "scatter3d"
           }
          ],
          "scattercarpet": [
           {
            "marker": {
             "colorbar": {
              "outlinewidth": 0,
              "ticks": ""
             }
            },
            "type": "scattercarpet"
           }
          ],
          "scattergeo": [
           {
            "marker": {
             "colorbar": {
              "outlinewidth": 0,
              "ticks": ""
             }
            },
            "type": "scattergeo"
           }
          ],
          "scattergl": [
           {
            "marker": {
             "colorbar": {
              "outlinewidth": 0,
              "ticks": ""
             }
            },
            "type": "scattergl"
           }
          ],
          "scattermapbox": [
           {
            "marker": {
             "colorbar": {
              "outlinewidth": 0,
              "ticks": ""
             }
            },
            "type": "scattermapbox"
           }
          ],
          "scatterpolar": [
           {
            "marker": {
             "colorbar": {
              "outlinewidth": 0,
              "ticks": ""
             }
            },
            "type": "scatterpolar"
           }
          ],
          "scatterpolargl": [
           {
            "marker": {
             "colorbar": {
              "outlinewidth": 0,
              "ticks": ""
             }
            },
            "type": "scatterpolargl"
           }
          ],
          "scatterternary": [
           {
            "marker": {
             "colorbar": {
              "outlinewidth": 0,
              "ticks": ""
             }
            },
            "type": "scatterternary"
           }
          ],
          "surface": [
           {
            "colorbar": {
             "outlinewidth": 0,
             "ticks": ""
            },
            "colorscale": [
             [
              0,
              "#0d0887"
             ],
             [
              0.1111111111111111,
              "#46039f"
             ],
             [
              0.2222222222222222,
              "#7201a8"
             ],
             [
              0.3333333333333333,
              "#9c179e"
             ],
             [
              0.4444444444444444,
              "#bd3786"
             ],
             [
              0.5555555555555556,
              "#d8576b"
             ],
             [
              0.6666666666666666,
              "#ed7953"
             ],
             [
              0.7777777777777778,
              "#fb9f3a"
             ],
             [
              0.8888888888888888,
              "#fdca26"
             ],
             [
              1,
              "#f0f921"
             ]
            ],
            "type": "surface"
           }
          ],
          "table": [
           {
            "cells": {
             "fill": {
              "color": "#EBF0F8"
             },
             "line": {
              "color": "white"
             }
            },
            "header": {
             "fill": {
              "color": "#C8D4E3"
             },
             "line": {
              "color": "white"
             }
            },
            "type": "table"
           }
          ]
         },
         "layout": {
          "annotationdefaults": {
           "arrowcolor": "#2a3f5f",
           "arrowhead": 0,
           "arrowwidth": 1
          },
          "autotypenumbers": "strict",
          "coloraxis": {
           "colorbar": {
            "outlinewidth": 0,
            "ticks": ""
           }
          },
          "colorscale": {
           "diverging": [
            [
             0,
             "#8e0152"
            ],
            [
             0.1,
             "#c51b7d"
            ],
            [
             0.2,
             "#de77ae"
            ],
            [
             0.3,
             "#f1b6da"
            ],
            [
             0.4,
             "#fde0ef"
            ],
            [
             0.5,
             "#f7f7f7"
            ],
            [
             0.6,
             "#e6f5d0"
            ],
            [
             0.7,
             "#b8e186"
            ],
            [
             0.8,
             "#7fbc41"
            ],
            [
             0.9,
             "#4d9221"
            ],
            [
             1,
             "#276419"
            ]
           ],
           "sequential": [
            [
             0,
             "#0d0887"
            ],
            [
             0.1111111111111111,
             "#46039f"
            ],
            [
             0.2222222222222222,
             "#7201a8"
            ],
            [
             0.3333333333333333,
             "#9c179e"
            ],
            [
             0.4444444444444444,
             "#bd3786"
            ],
            [
             0.5555555555555556,
             "#d8576b"
            ],
            [
             0.6666666666666666,
             "#ed7953"
            ],
            [
             0.7777777777777778,
             "#fb9f3a"
            ],
            [
             0.8888888888888888,
             "#fdca26"
            ],
            [
             1,
             "#f0f921"
            ]
           ],
           "sequentialminus": [
            [
             0,
             "#0d0887"
            ],
            [
             0.1111111111111111,
             "#46039f"
            ],
            [
             0.2222222222222222,
             "#7201a8"
            ],
            [
             0.3333333333333333,
             "#9c179e"
            ],
            [
             0.4444444444444444,
             "#bd3786"
            ],
            [
             0.5555555555555556,
             "#d8576b"
            ],
            [
             0.6666666666666666,
             "#ed7953"
            ],
            [
             0.7777777777777778,
             "#fb9f3a"
            ],
            [
             0.8888888888888888,
             "#fdca26"
            ],
            [
             1,
             "#f0f921"
            ]
           ]
          },
          "colorway": [
           "#636efa",
           "#EF553B",
           "#00cc96",
           "#ab63fa",
           "#FFA15A",
           "#19d3f3",
           "#FF6692",
           "#B6E880",
           "#FF97FF",
           "#FECB52"
          ],
          "font": {
           "color": "#2a3f5f"
          },
          "geo": {
           "bgcolor": "white",
           "lakecolor": "white",
           "landcolor": "#E5ECF6",
           "showlakes": true,
           "showland": true,
           "subunitcolor": "white"
          },
          "hoverlabel": {
           "align": "left"
          },
          "hovermode": "closest",
          "mapbox": {
           "style": "light"
          },
          "paper_bgcolor": "white",
          "plot_bgcolor": "#E5ECF6",
          "polar": {
           "angularaxis": {
            "gridcolor": "white",
            "linecolor": "white",
            "ticks": ""
           },
           "bgcolor": "#E5ECF6",
           "radialaxis": {
            "gridcolor": "white",
            "linecolor": "white",
            "ticks": ""
           }
          },
          "scene": {
           "xaxis": {
            "backgroundcolor": "#E5ECF6",
            "gridcolor": "white",
            "gridwidth": 2,
            "linecolor": "white",
            "showbackground": true,
            "ticks": "",
            "zerolinecolor": "white"
           },
           "yaxis": {
            "backgroundcolor": "#E5ECF6",
            "gridcolor": "white",
            "gridwidth": 2,
            "linecolor": "white",
            "showbackground": true,
            "ticks": "",
            "zerolinecolor": "white"
           },
           "zaxis": {
            "backgroundcolor": "#E5ECF6",
            "gridcolor": "white",
            "gridwidth": 2,
            "linecolor": "white",
            "showbackground": true,
            "ticks": "",
            "zerolinecolor": "white"
           }
          },
          "shapedefaults": {
           "line": {
            "color": "#2a3f5f"
           }
          },
          "ternary": {
           "aaxis": {
            "gridcolor": "white",
            "linecolor": "white",
            "ticks": ""
           },
           "baxis": {
            "gridcolor": "white",
            "linecolor": "white",
            "ticks": ""
           },
           "bgcolor": "#E5ECF6",
           "caxis": {
            "gridcolor": "white",
            "linecolor": "white",
            "ticks": ""
           }
          },
          "title": {
           "x": 0.05
          },
          "xaxis": {
           "automargin": true,
           "gridcolor": "white",
           "linecolor": "white",
           "ticks": "",
           "title": {
            "standoff": 15
           },
           "zerolinecolor": "white",
           "zerolinewidth": 2
          },
          "yaxis": {
           "automargin": true,
           "gridcolor": "white",
           "linecolor": "white",
           "ticks": "",
           "title": {
            "standoff": 15
           },
           "zerolinecolor": "white",
           "zerolinewidth": 2
          }
         }
        },
        "title": {
         "text": "Freuqency Distribution of Sentiment Scores",
         "x": 0.5
        },
        "width": 1200,
        "xaxis": {
         "title": {
          "text": "Score Label"
         }
        },
        "yaxis": {
         "title": {
          "text": "Frequency"
         }
        }
       }
      }
     },
     "metadata": {},
     "output_type": "display_data"
    }
   ],
   "source": [
    "# Extract labels and values of positive sentiments\n",
    "positivelabels = df[df['Sentiment Score'] > 0]['Sentiment Score'].value_counts().index\n",
    "positivevalues = df[df['Sentiment Score'] > 0]['Sentiment Score'].value_counts().values\n",
    "\n",
    "# Extract labels and values of neutral sentiments\n",
    "neutrallabels = df[df['Sentiment Score'] == 0]['Sentiment Score'].value_counts().index\n",
    "neutralvalues = df[df['Sentiment Score'] == 0]['Sentiment Score'].shape\n",
    "\n",
    "# Extract labels and values of negative sentiments\n",
    "negativelabels = df[df['Sentiment Score'] < 0]['Sentiment Score'].value_counts().index\n",
    "negativevalues = df[df['Sentiment Score'] < 0]['Sentiment Score'].value_counts().values\n",
    "\n",
    "# Initiate an empty figure\n",
    "fig = go.Figure()\n",
    "\n",
    "# Adding a trace of positive sentiments\n",
    "fig.add_trace(trace=go.Bar(y=positivevalues,\n",
    "                          x=positivelabels,\n",
    "                          width=0.4,\n",
    "                          marker_color='#34A853',\n",
    "                          name='Positive Sentiments'))\n",
    "\n",
    "# Adding a trace of neutral sentiments\n",
    "fig.add_trace(trace=go.Bar(y=neutralvalues,\n",
    "                          x=neutrallabels,\n",
    "                          width=0.4,\n",
    "                          marker_color='#35363A',\n",
    "                          name='Neutral Sentiments'))\n",
    "\n",
    "# Adding a trace of negative sentiments\n",
    "fig.add_trace(trace=go.Bar(y=negativevalues,\n",
    "                          x=negativelabels,\n",
    "                          width=0.4, \n",
    "                          marker_color='#ed7d31',\n",
    "                          name='Negative Sentiments'))\n",
    "\n",
    "# Update the layout with some cosmetics\n",
    "fig.update_layout(height=500,\n",
    "                 width=1200,\n",
    "                 title_text='Freuqency Distribution of Sentiment Scores',\n",
    "                 title_x=0.5,\n",
    "                 xaxis_title='Score Label',\n",
    "                 yaxis_title='Frequency')\n",
    "\n",
    "# Display the figure\n",
    "fig.show()"
   ]
  },
  {
   "cell_type": "code",
   "execution_count": null,
   "metadata": {},
   "outputs": [],
   "source": [
    "inertia_vals = []\n",
    "k_vals = [x for x in range(1,16)]\n",
    "\n",
    "for i in k-vals:\n",
    "    k_model = KMeans(n_clusters=i,max_iter=500,random_state=43, n_jobs=-1)\n",
    "    k_model.fit(scaled_frame)"
   ]
  }
 ],
 "metadata": {
  "kernelspec": {
   "display_name": "Python 3.10.7 ('.venv': venv)",
   "language": "python",
   "name": "python3"
  },
  "language_info": {
   "codemirror_mode": {
    "name": "ipython",
    "version": 3
   },
   "file_extension": ".py",
   "mimetype": "text/x-python",
   "name": "python",
   "nbconvert_exporter": "python",
   "pygments_lexer": "ipython3",
   "version": "3.10.7"
  },
  "orig_nbformat": 4,
  "vscode": {
   "interpreter": {
    "hash": "3deb06a5d01804367ce2ecfe98b0b6814225a3aa42a1783b832b32d4dd999920"
   }
  }
 },
 "nbformat": 4,
 "nbformat_minor": 2
}
