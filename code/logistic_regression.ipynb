{
 "cells": [
  {
   "cell_type": "code",
   "execution_count": null,
   "metadata": {},
   "outputs": [],
   "source": [
    "X_train_text, X_test_text = train_test_split(svdtfifdf_data,test_size=0.25)\n",
    "# y = X_train_text[\"Keyword Contains\"].copy()\n",
    "# test_y = X_test_text[\"Keyword Contains\"].copy()\n",
    "# X_train_text.drop(\"Keyword Contains\",axis=1)\n",
    "# X_test_text.drop(\"Keyword Contains\",axis=1)"
   ]
  },
  {
   "cell_type": "code",
   "execution_count": null,
   "metadata": {},
   "outputs": [
    {
     "ename": "IndexError",
     "evalue": "only integers, slices (`:`), ellipsis (`...`), numpy.newaxis (`None`) and integer or boolean arrays are valid indices",
     "output_type": "error",
     "traceback": [
      "\u001b[0;31m---------------------------------------------------------------------------\u001b[0m\n",
      "\u001b[0;31mIndexError\u001b[0m                                Traceback (most recent call last)\n",
      "Cell \u001b[0;32mIn [9], line 2\u001b[0m\n",
      "\u001b[1;32m      1\u001b[0m count \u001b[39m=\u001b[39m \u001b[39m0\u001b[39m\n",
      "\u001b[0;32m----> 2\u001b[0m \u001b[39mfor\u001b[39;00m i \u001b[39min\u001b[39;00m X_train_text[\u001b[39m\"\u001b[39m\u001b[39mKeyword Contains\u001b[39m\u001b[39m\"\u001b[39m]:\n",
      "\u001b[1;32m      3\u001b[0m     \u001b[39mif\u001b[39;00m i \u001b[39m==\u001b[39m \u001b[39mTrue\u001b[39;00m:\n",
      "\u001b[1;32m      4\u001b[0m         count \u001b[39m+\u001b[39m\u001b[39m=\u001b[39m \u001b[39m1\u001b[39m\n",
      "\n",
      "\u001b[0;31mIndexError\u001b[0m: only integers, slices (`:`), ellipsis (`...`), numpy.newaxis (`None`) and integer or boolean arrays are valid indices"
     ]
    }
   ],
   "source": [
    "count = 0\n",
    "for i in X_train_text[\"Keyword Contains\"]:\n",
    "    if i == True:\n",
    "        count += 1\n",
    "\n",
    "print((count/len(X_train_text[\"Review Description\"]))*100)\n",
    "\n",
    "count = 0\n",
    "for i in X_test_text[\"Keyword Contains\"]:\n",
    "    if i == True:\n",
    "        count += 1\n",
    "\n",
    "print((count/len(X_test_text[\"Review Description\"]))*100)"
   ]
  },
  {
   "cell_type": "code",
   "execution_count": null,
   "metadata": {},
   "outputs": [
    {
     "name": "stdout",
     "output_type": "stream",
     "text": [
      "Train Shape: 16784 Rows and 1534319 Columns\n",
      "Test Shape: 5595 Rows and 1534319 Columns\n"
     ]
    }
   ],
   "source": [
    "print(\"Train Shape: {} Rows and {} Columns\".format(*train_tfidf.shape))\n",
    "print(\"Test Shape: {} Rows and {} Columns\".format(*test_tfidf.shape))"
   ]
  },
  {
   "cell_type": "code",
   "execution_count": null,
   "metadata": {},
   "outputs": [],
   "source": [
    "model = LogisticRegression(multi_class='ovr',C=1)\n",
    "model.fit(X_train_text,y)"
   ]
  },
  {
   "cell_type": "code",
   "execution_count": null,
   "metadata": {},
   "outputs": [],
   "source": [
    "submission = model.predict(X_test_text)\n",
    "submission_df = pd.Series(submission).rename(\"Predicted Exploitation\")"
   ]
  }
 ],
 "metadata": {
  "kernelspec": {
   "display_name": "Python 3.10.7 ('.venv': venv)",
   "language": "python",
   "name": "python3"
  },
  "language_info": {
   "name": "python",
   "version": "3.10.7"
  },
  "orig_nbformat": 4,
  "vscode": {
   "interpreter": {
    "hash": "3deb06a5d01804367ce2ecfe98b0b6814225a3aa42a1783b832b32d4dd999920"
   }
  }
 },
 "nbformat": 4,
 "nbformat_minor": 2
}
