{
 "cells": [
  {
   "cell_type": "code",
   "execution_count": 1,
   "metadata": {},
   "outputs": [],
   "source": [
    "#New file to vectorise the reviews to perform the data science on them"
   ]
  },
  {
   "cell_type": "code",
   "execution_count": 2,
   "metadata": {},
   "outputs": [],
   "source": [
    "from nltk.corpus import stopwords\n",
    "from nltk.tokenize import word_tokenize\n",
    "from nltk.stem import PorterStemmer\n",
    "from collections import Counter\n",
    "from num2words import num2words\n",
    "\n",
    "import nltk\n",
    "import os\n",
    "import string\n",
    "import numpy as np\n",
    "import copy\n",
    "import pandas as pd\n",
    "import pickle\n",
    "import re\n",
    "import math\n"
   ]
  },
  {
   "cell_type": "markdown",
   "metadata": {},
   "source": [
    "<b><h2>Handling of the review data and vectorising of the text"
   ]
  },
  {
   "cell_type": "code",
   "execution_count": 3,
   "metadata": {},
   "outputs": [],
   "source": [
    "full_data = pd.read_csv(\"../data/review_dataset.csv\")\n",
    "full_data = pd.DataFrame(full_data)\n",
    "full_data.dropna()\n",
    "full_data = full_data.drop(\"Unnamed: 0\", axis=1)"
   ]
  },
  {
   "cell_type": "code",
   "execution_count": 4,
   "metadata": {},
   "outputs": [],
   "source": [
    "from sklearn.model_selection import train_test_split"
   ]
  },
  {
   "cell_type": "code",
   "execution_count": 5,
   "metadata": {},
   "outputs": [
    {
     "data": {
      "text/html": [
       "<div>\n",
       "<style scoped>\n",
       "    .dataframe tbody tr th:only-of-type {\n",
       "        vertical-align: middle;\n",
       "    }\n",
       "\n",
       "    .dataframe tbody tr th {\n",
       "        vertical-align: top;\n",
       "    }\n",
       "\n",
       "    .dataframe thead th {\n",
       "        text-align: right;\n",
       "    }\n",
       "</style>\n",
       "<table border=\"1\" class=\"dataframe\">\n",
       "  <thead>\n",
       "    <tr style=\"text-align: right;\">\n",
       "      <th></th>\n",
       "      <th>Business Name</th>\n",
       "      <th>Street Number</th>\n",
       "      <th>Route</th>\n",
       "      <th>Postal Town</th>\n",
       "      <th>County</th>\n",
       "      <th>Country</th>\n",
       "      <th>Postcode</th>\n",
       "      <th>Overall Rating</th>\n",
       "      <th>Language</th>\n",
       "      <th>Rating</th>\n",
       "      <th>Review Description</th>\n",
       "      <th>Time</th>\n",
       "      <th>Date</th>\n",
       "      <th>processed review</th>\n",
       "      <th>lemmatized review</th>\n",
       "      <th>Keyword No Negative</th>\n",
       "    </tr>\n",
       "  </thead>\n",
       "  <tbody>\n",
       "    <tr>\n",
       "      <th>20454</th>\n",
       "      <td>No.21 Beauty</td>\n",
       "      <td>21b</td>\n",
       "      <td>Bank Street</td>\n",
       "      <td>Dundee</td>\n",
       "      <td>Dundee City Council</td>\n",
       "      <td>United Kingdom</td>\n",
       "      <td>DD1 1RL</td>\n",
       "      <td>4.7</td>\n",
       "      <td>en</td>\n",
       "      <td>5.0</td>\n",
       "      <td>had my nails done by nikki at 21 beauty and th...</td>\n",
       "      <td>1.628579e+09</td>\n",
       "      <td>2021-08-10 07:01:17</td>\n",
       "      <td>nails done nikki 21 beauty fantastic nikki lov...</td>\n",
       "      <td>nail done nikki 21 beauty fantastic nikki lov...</td>\n",
       "      <td>False</td>\n",
       "    </tr>\n",
       "    <tr>\n",
       "      <th>15123</th>\n",
       "      <td>Matt's Valet</td>\n",
       "      <td>45</td>\n",
       "      <td>Spinney Close</td>\n",
       "      <td>Exeter</td>\n",
       "      <td>Devon</td>\n",
       "      <td>United Kingdom</td>\n",
       "      <td>EX2 5PE</td>\n",
       "      <td>5.0</td>\n",
       "      <td>en</td>\n",
       "      <td>5.0</td>\n",
       "      <td>changed my life</td>\n",
       "      <td>1.650921e+09</td>\n",
       "      <td>2022-04-25 21:16:13</td>\n",
       "      <td>changed life</td>\n",
       "      <td>changed life</td>\n",
       "      <td>False</td>\n",
       "    </tr>\n",
       "    <tr>\n",
       "      <th>12635</th>\n",
       "      <td>William H Brown Estate Agents</td>\n",
       "      <td>2</td>\n",
       "      <td>Wood Street</td>\n",
       "      <td>Wakefield</td>\n",
       "      <td>West Yorkshire</td>\n",
       "      <td>United Kingdom</td>\n",
       "      <td>WF1 2ED</td>\n",
       "      <td>4.1</td>\n",
       "      <td>en</td>\n",
       "      <td>1.0</td>\n",
       "      <td>sad to have to write this but following a very...</td>\n",
       "      <td>1.650887e+09</td>\n",
       "      <td>2022-04-25 11:51:33</td>\n",
       "      <td>sad write following poor experience feel like ...</td>\n",
       "      <td>sad write following poor experience feel like...</td>\n",
       "      <td>True</td>\n",
       "    </tr>\n",
       "    <tr>\n",
       "      <th>5540</th>\n",
       "      <td>Allure Style Studio</td>\n",
       "      <td>48</td>\n",
       "      <td>Upper Craigs</td>\n",
       "      <td>Stirling</td>\n",
       "      <td>Stirling</td>\n",
       "      <td>United Kingdom</td>\n",
       "      <td>FK8 2DS</td>\n",
       "      <td>5.0</td>\n",
       "      <td>en</td>\n",
       "      <td>5.0</td>\n",
       "      <td>great salon staff are lovely especially tony w...</td>\n",
       "      <td>1.603985e+09</td>\n",
       "      <td>2020-10-29 15:20:15</td>\n",
       "      <td>great salon staff lovely especially tony fanta...</td>\n",
       "      <td>great salon staff lovely especially tony fant...</td>\n",
       "      <td>False</td>\n",
       "    </tr>\n",
       "    <tr>\n",
       "      <th>14461</th>\n",
       "      <td>Chichester Car Wash</td>\n",
       "      <td>34</td>\n",
       "      <td>Quarry Lane</td>\n",
       "      <td>Chichester</td>\n",
       "      <td>West Sussex</td>\n",
       "      <td>United Kingdom</td>\n",
       "      <td>PO19 8ET</td>\n",
       "      <td>4.2</td>\n",
       "      <td>en</td>\n",
       "      <td>1.0</td>\n",
       "      <td>went for an exterior car wash only upon arriva...</td>\n",
       "      <td>1.648638e+09</td>\n",
       "      <td>2022-03-30 11:05:51</td>\n",
       "      <td>went exterior car wash upon arrival two vehicl...</td>\n",
       "      <td>went exterior car wash upon arrival two vehic...</td>\n",
       "      <td>False</td>\n",
       "    </tr>\n",
       "    <tr>\n",
       "      <th>...</th>\n",
       "      <td>...</td>\n",
       "      <td>...</td>\n",
       "      <td>...</td>\n",
       "      <td>...</td>\n",
       "      <td>...</td>\n",
       "      <td>...</td>\n",
       "      <td>...</td>\n",
       "      <td>...</td>\n",
       "      <td>...</td>\n",
       "      <td>...</td>\n",
       "      <td>...</td>\n",
       "      <td>...</td>\n",
       "      <td>...</td>\n",
       "      <td>...</td>\n",
       "      <td>...</td>\n",
       "      <td>...</td>\n",
       "    </tr>\n",
       "    <tr>\n",
       "      <th>20700</th>\n",
       "      <td>County Nails</td>\n",
       "      <td>22</td>\n",
       "      <td>County Road</td>\n",
       "      <td>Liverpool</td>\n",
       "      <td>Merseyside</td>\n",
       "      <td>United Kingdom</td>\n",
       "      <td>L4 3QH</td>\n",
       "      <td>4.2</td>\n",
       "      <td>en</td>\n",
       "      <td>5.0</td>\n",
       "      <td>absolutely amazing place i go everytime for my...</td>\n",
       "      <td>1.638716e+09</td>\n",
       "      <td>2021-12-05 14:53:32</td>\n",
       "      <td>absolutely amazing place go everytime nails ti...</td>\n",
       "      <td>absolutely amazing place go everytime nail ti...</td>\n",
       "      <td>False</td>\n",
       "    </tr>\n",
       "    <tr>\n",
       "      <th>6057</th>\n",
       "      <td>BeckyBeauty</td>\n",
       "      <td>7</td>\n",
       "      <td>Commercial Road</td>\n",
       "      <td>Shepton Mallet</td>\n",
       "      <td>Somerset</td>\n",
       "      <td>United Kingdom</td>\n",
       "      <td>BA4 5BU</td>\n",
       "      <td>5.0</td>\n",
       "      <td>en</td>\n",
       "      <td>5.0</td>\n",
       "      <td>omdsss becky is so so lovely  the most down to...</td>\n",
       "      <td>1.625429e+09</td>\n",
       "      <td>2021-07-04 20:00:12</td>\n",
       "      <td>omdsss becky lovely earth person ive ever met ...</td>\n",
       "      <td>omdsss becky lovely earth person ive ever met...</td>\n",
       "      <td>False</td>\n",
       "    </tr>\n",
       "    <tr>\n",
       "      <th>22056</th>\n",
       "      <td>Mr Bubble Hand Carwash</td>\n",
       "      <td>82</td>\n",
       "      <td>Liverpool Road</td>\n",
       "      <td>Preston</td>\n",
       "      <td>Lancashire</td>\n",
       "      <td>United Kingdom</td>\n",
       "      <td>PR4 5SP</td>\n",
       "      <td>4.4</td>\n",
       "      <td>en</td>\n",
       "      <td>1.0</td>\n",
       "      <td>paid 50 for a full valet and bits still wasnt ...</td>\n",
       "      <td>1.651336e+09</td>\n",
       "      <td>2022-04-30 16:19:35</td>\n",
       "      <td>paid 50 full valet bits still wasnt clean prop...</td>\n",
       "      <td>paid 50 full valet bit still wasnt clean prop...</td>\n",
       "      <td>False</td>\n",
       "    </tr>\n",
       "    <tr>\n",
       "      <th>11757</th>\n",
       "      <td>Northwood - Southampton</td>\n",
       "      <td>1</td>\n",
       "      <td>Bellevue Road</td>\n",
       "      <td>Southampton</td>\n",
       "      <td>Southampton</td>\n",
       "      <td>United Kingdom</td>\n",
       "      <td>SO15 2AW</td>\n",
       "      <td>3.7</td>\n",
       "      <td>en</td>\n",
       "      <td>5.0</td>\n",
       "      <td>the northwoodsouthampton team have been except...</td>\n",
       "      <td>1.645099e+09</td>\n",
       "      <td>2022-02-17 12:04:39</td>\n",
       "      <td>northwoodsouthampton team exceptional proffess...</td>\n",
       "      <td>northwoodsouthampton team exceptional proffes...</td>\n",
       "      <td>False</td>\n",
       "    </tr>\n",
       "    <tr>\n",
       "      <th>6566</th>\n",
       "      <td>White Tips Professional Nails</td>\n",
       "      <td>5a</td>\n",
       "      <td>Goodramgate</td>\n",
       "      <td>York</td>\n",
       "      <td>York</td>\n",
       "      <td>United Kingdom</td>\n",
       "      <td>YO1 7LJ</td>\n",
       "      <td>3.9</td>\n",
       "      <td>en</td>\n",
       "      <td>5.0</td>\n",
       "      <td>almost a month on the gel on my nails still lo...</td>\n",
       "      <td>1.659294e+09</td>\n",
       "      <td>2022-07-31 18:54:34</td>\n",
       "      <td>almost month gel nails still looks great youll...</td>\n",
       "      <td>almost month gel nail still look great youll ...</td>\n",
       "      <td>False</td>\n",
       "    </tr>\n",
       "  </tbody>\n",
       "</table>\n",
       "<p>5595 rows × 16 columns</p>\n",
       "</div>"
      ],
      "text/plain": [
       "                       Business Name Street Number            Route  \\\n",
       "20454                   No.21 Beauty           21b      Bank Street   \n",
       "15123                   Matt's Valet            45    Spinney Close   \n",
       "12635  William H Brown Estate Agents             2      Wood Street   \n",
       "5540             Allure Style Studio            48     Upper Craigs   \n",
       "14461            Chichester Car Wash            34      Quarry Lane   \n",
       "...                              ...           ...              ...   \n",
       "20700                   County Nails            22      County Road   \n",
       "6057                     BeckyBeauty             7  Commercial Road   \n",
       "22056         Mr Bubble Hand Carwash            82   Liverpool Road   \n",
       "11757        Northwood - Southampton             1    Bellevue Road   \n",
       "6566   White Tips Professional Nails            5a      Goodramgate   \n",
       "\n",
       "          Postal Town               County         Country  Postcode  \\\n",
       "20454          Dundee  Dundee City Council  United Kingdom   DD1 1RL   \n",
       "15123          Exeter                Devon  United Kingdom   EX2 5PE   \n",
       "12635       Wakefield       West Yorkshire  United Kingdom   WF1 2ED   \n",
       "5540         Stirling             Stirling  United Kingdom   FK8 2DS   \n",
       "14461      Chichester          West Sussex  United Kingdom  PO19 8ET   \n",
       "...               ...                  ...             ...       ...   \n",
       "20700       Liverpool           Merseyside  United Kingdom    L4 3QH   \n",
       "6057   Shepton Mallet             Somerset  United Kingdom   BA4 5BU   \n",
       "22056         Preston           Lancashire  United Kingdom   PR4 5SP   \n",
       "11757     Southampton          Southampton  United Kingdom  SO15 2AW   \n",
       "6566             York                 York  United Kingdom   YO1 7LJ   \n",
       "\n",
       "       Overall Rating Language  Rating  \\\n",
       "20454             4.7       en     5.0   \n",
       "15123             5.0       en     5.0   \n",
       "12635             4.1       en     1.0   \n",
       "5540              5.0       en     5.0   \n",
       "14461             4.2       en     1.0   \n",
       "...               ...      ...     ...   \n",
       "20700             4.2       en     5.0   \n",
       "6057              5.0       en     5.0   \n",
       "22056             4.4       en     1.0   \n",
       "11757             3.7       en     5.0   \n",
       "6566              3.9       en     5.0   \n",
       "\n",
       "                                      Review Description          Time  \\\n",
       "20454  had my nails done by nikki at 21 beauty and th...  1.628579e+09   \n",
       "15123                                    changed my life  1.650921e+09   \n",
       "12635  sad to have to write this but following a very...  1.650887e+09   \n",
       "5540   great salon staff are lovely especially tony w...  1.603985e+09   \n",
       "14461  went for an exterior car wash only upon arriva...  1.648638e+09   \n",
       "...                                                  ...           ...   \n",
       "20700  absolutely amazing place i go everytime for my...  1.638716e+09   \n",
       "6057   omdsss becky is so so lovely  the most down to...  1.625429e+09   \n",
       "22056  paid 50 for a full valet and bits still wasnt ...  1.651336e+09   \n",
       "11757  the northwoodsouthampton team have been except...  1.645099e+09   \n",
       "6566   almost a month on the gel on my nails still lo...  1.659294e+09   \n",
       "\n",
       "                      Date                                   processed review  \\\n",
       "20454  2021-08-10 07:01:17  nails done nikki 21 beauty fantastic nikki lov...   \n",
       "15123  2022-04-25 21:16:13                                       changed life   \n",
       "12635  2022-04-25 11:51:33  sad write following poor experience feel like ...   \n",
       "5540   2020-10-29 15:20:15  great salon staff lovely especially tony fanta...   \n",
       "14461  2022-03-30 11:05:51  went exterior car wash upon arrival two vehicl...   \n",
       "...                    ...                                                ...   \n",
       "20700  2021-12-05 14:53:32  absolutely amazing place go everytime nails ti...   \n",
       "6057   2021-07-04 20:00:12  omdsss becky lovely earth person ive ever met ...   \n",
       "22056  2022-04-30 16:19:35  paid 50 full valet bits still wasnt clean prop...   \n",
       "11757  2022-02-17 12:04:39  northwoodsouthampton team exceptional proffess...   \n",
       "6566   2022-07-31 18:54:34  almost month gel nails still looks great youll...   \n",
       "\n",
       "                                       lemmatized review  Keyword No Negative  \n",
       "20454   nail done nikki 21 beauty fantastic nikki lov...                False  \n",
       "15123                                       changed life                False  \n",
       "12635   sad write following poor experience feel like...                 True  \n",
       "5540    great salon staff lovely especially tony fant...                False  \n",
       "14461   went exterior car wash upon arrival two vehic...                False  \n",
       "...                                                  ...                  ...  \n",
       "20700   absolutely amazing place go everytime nail ti...                False  \n",
       "6057    omdsss becky lovely earth person ive ever met...                False  \n",
       "22056   paid 50 full valet bit still wasnt clean prop...                False  \n",
       "11757   northwoodsouthampton team exceptional proffes...                False  \n",
       "6566    almost month gel nail still look great youll ...                False  \n",
       "\n",
       "[5595 rows x 16 columns]"
      ]
     },
     "execution_count": 5,
     "metadata": {},
     "output_type": "execute_result"
    }
   ],
   "source": [
    "X_train_text, X_test_text = train_test_split(full_data,test_size=0.25)\n",
    "y = X_train_text[\"Keyword Contains\"].copy()\n",
    "test_y = X_test_text[\"Keyword Contains\"].copy()\n",
    "X_train_text.drop(\"Keyword Contains\",axis=1)\n",
    "X_test_text.drop(\"Keyword Contains\",axis=1)"
   ]
  },
  {
   "cell_type": "code",
   "execution_count": 6,
   "metadata": {},
   "outputs": [
    {
     "name": "stdout",
     "output_type": "stream",
     "text": [
      "3.9740228789323164\n",
      "3.753351206434316\n"
     ]
    }
   ],
   "source": [
    "count = 0\n",
    "for i in X_train_text[\"Keyword Contains\"]:\n",
    "    if i == True:\n",
    "        count += 1\n",
    "\n",
    "print((count/len(X_train_text[\"Review Description\"]))*100)\n",
    "\n",
    "count = 0\n",
    "for i in X_test_text[\"Keyword Contains\"]:\n",
    "    if i == True:\n",
    "        count += 1\n",
    "\n",
    "print((count/len(X_test_text[\"Review Description\"]))*100)"
   ]
  },
  {
   "cell_type": "markdown",
   "metadata": {},
   "source": [
    "<h3><b>Sklearn.feature_extraction attempt to vectorise the data\n",
    "\n"
   ]
  },
  {
   "cell_type": "code",
   "execution_count": 7,
   "metadata": {},
   "outputs": [],
   "source": [
    "from sklearn.feature_extraction.text import TfidfVectorizer\n",
    "from sklearn.linear_model import LogisticRegression\n",
    "from sklearn.decomposition import TruncatedSVD"
   ]
  },
  {
   "cell_type": "code",
   "execution_count": 8,
   "metadata": {},
   "outputs": [],
   "source": [
    "vectoriser = TfidfVectorizer(ngram_range=(1,5))\n",
    "train_tfidf = vectoriser.fit_transform(X_train_text[\"lemmatized review\"])\n",
    "test_tfidf = vectoriser.transform(X_test_text[\"lemmatized review\"])\n",
    "\n",
    "# full_text = vectoriser.fit_transform(full_data['lemmatized review'])\n",
    "features = vectoriser.get_feature_names_out()"
   ]
  },
  {
   "cell_type": "code",
   "execution_count": 9,
   "metadata": {},
   "outputs": [
    {
     "name": "stdout",
     "output_type": "stream",
     "text": [
      "Train Shape: 16784 Rows and 1534319 Columns\n",
      "Test Shape: 5595 Rows and 1534319 Columns\n"
     ]
    }
   ],
   "source": [
    "print(\"Train Shape: {} Rows and {} Columns\".format(*train_tfidf.shape))\n",
    "print(\"Test Shape: {} Rows and {} Columns\".format(*test_tfidf.shape))"
   ]
  },
  {
   "cell_type": "code",
   "execution_count": 10,
   "metadata": {},
   "outputs": [
    {
     "data": {
      "text/html": [
       "<style>#sk-container-id-1 {color: black;background-color: white;}#sk-container-id-1 pre{padding: 0;}#sk-container-id-1 div.sk-toggleable {background-color: white;}#sk-container-id-1 label.sk-toggleable__label {cursor: pointer;display: block;width: 100%;margin-bottom: 0;padding: 0.3em;box-sizing: border-box;text-align: center;}#sk-container-id-1 label.sk-toggleable__label-arrow:before {content: \"▸\";float: left;margin-right: 0.25em;color: #696969;}#sk-container-id-1 label.sk-toggleable__label-arrow:hover:before {color: black;}#sk-container-id-1 div.sk-estimator:hover label.sk-toggleable__label-arrow:before {color: black;}#sk-container-id-1 div.sk-toggleable__content {max-height: 0;max-width: 0;overflow: hidden;text-align: left;background-color: #f0f8ff;}#sk-container-id-1 div.sk-toggleable__content pre {margin: 0.2em;color: black;border-radius: 0.25em;background-color: #f0f8ff;}#sk-container-id-1 input.sk-toggleable__control:checked~div.sk-toggleable__content {max-height: 200px;max-width: 100%;overflow: auto;}#sk-container-id-1 input.sk-toggleable__control:checked~label.sk-toggleable__label-arrow:before {content: \"▾\";}#sk-container-id-1 div.sk-estimator input.sk-toggleable__control:checked~label.sk-toggleable__label {background-color: #d4ebff;}#sk-container-id-1 div.sk-label input.sk-toggleable__control:checked~label.sk-toggleable__label {background-color: #d4ebff;}#sk-container-id-1 input.sk-hidden--visually {border: 0;clip: rect(1px 1px 1px 1px);clip: rect(1px, 1px, 1px, 1px);height: 1px;margin: -1px;overflow: hidden;padding: 0;position: absolute;width: 1px;}#sk-container-id-1 div.sk-estimator {font-family: monospace;background-color: #f0f8ff;border: 1px dotted black;border-radius: 0.25em;box-sizing: border-box;margin-bottom: 0.5em;}#sk-container-id-1 div.sk-estimator:hover {background-color: #d4ebff;}#sk-container-id-1 div.sk-parallel-item::after {content: \"\";width: 100%;border-bottom: 1px solid gray;flex-grow: 1;}#sk-container-id-1 div.sk-label:hover label.sk-toggleable__label {background-color: #d4ebff;}#sk-container-id-1 div.sk-serial::before {content: \"\";position: absolute;border-left: 1px solid gray;box-sizing: border-box;top: 0;bottom: 0;left: 50%;z-index: 0;}#sk-container-id-1 div.sk-serial {display: flex;flex-direction: column;align-items: center;background-color: white;padding-right: 0.2em;padding-left: 0.2em;position: relative;}#sk-container-id-1 div.sk-item {position: relative;z-index: 1;}#sk-container-id-1 div.sk-parallel {display: flex;align-items: stretch;justify-content: center;background-color: white;position: relative;}#sk-container-id-1 div.sk-item::before, #sk-container-id-1 div.sk-parallel-item::before {content: \"\";position: absolute;border-left: 1px solid gray;box-sizing: border-box;top: 0;bottom: 0;left: 50%;z-index: -1;}#sk-container-id-1 div.sk-parallel-item {display: flex;flex-direction: column;z-index: 1;position: relative;background-color: white;}#sk-container-id-1 div.sk-parallel-item:first-child::after {align-self: flex-end;width: 50%;}#sk-container-id-1 div.sk-parallel-item:last-child::after {align-self: flex-start;width: 50%;}#sk-container-id-1 div.sk-parallel-item:only-child::after {width: 0;}#sk-container-id-1 div.sk-dashed-wrapped {border: 1px dashed gray;margin: 0 0.4em 0.5em 0.4em;box-sizing: border-box;padding-bottom: 0.4em;background-color: white;}#sk-container-id-1 div.sk-label label {font-family: monospace;font-weight: bold;display: inline-block;line-height: 1.2em;}#sk-container-id-1 div.sk-label-container {text-align: center;}#sk-container-id-1 div.sk-container {/* jupyter's `normalize.less` sets `[hidden] { display: none; }` but bootstrap.min.css set `[hidden] { display: none !important; }` so we also need the `!important` here to be able to override the default hidden behavior on the sphinx rendered scikit-learn.org. See: https://github.com/scikit-learn/scikit-learn/issues/21755 */display: inline-block !important;position: relative;}#sk-container-id-1 div.sk-text-repr-fallback {display: none;}</style><div id=\"sk-container-id-1\" class=\"sk-top-container\"><div class=\"sk-text-repr-fallback\"><pre>TruncatedSVD(n_components=50, n_iter=20, random_state=42)</pre><b>In a Jupyter environment, please rerun this cell to show the HTML representation or trust the notebook. <br />On GitHub, the HTML representation is unable to render, please try loading this page with nbviewer.org.</b></div><div class=\"sk-container\" hidden><div class=\"sk-item\"><div class=\"sk-estimator sk-toggleable\"><input class=\"sk-toggleable__control sk-hidden--visually\" id=\"sk-estimator-id-1\" type=\"checkbox\" checked><label for=\"sk-estimator-id-1\" class=\"sk-toggleable__label sk-toggleable__label-arrow\">TruncatedSVD</label><div class=\"sk-toggleable__content\"><pre>TruncatedSVD(n_components=50, n_iter=20, random_state=42)</pre></div></div></div></div></div>"
      ],
      "text/plain": [
       "TruncatedSVD(n_components=50, n_iter=20, random_state=42)"
      ]
     },
     "execution_count": 10,
     "metadata": {},
     "output_type": "execute_result"
    }
   ],
   "source": [
    "svd = TruncatedSVD(n_components=50, n_iter=20, random_state=42)\n",
    "svd.fit(train_tfidf)"
   ]
  },
  {
   "cell_type": "code",
   "execution_count": 11,
   "metadata": {},
   "outputs": [],
   "source": [
    "train_tfidf = svd.transform(train_tfidf)\n",
    "test_tfidf = svd.transform(test_tfidf)"
   ]
  },
  {
   "cell_type": "code",
   "execution_count": 13,
   "metadata": {},
   "outputs": [
    {
     "data": {
      "text/html": [
       "<style>#sk-container-id-2 {color: black;background-color: white;}#sk-container-id-2 pre{padding: 0;}#sk-container-id-2 div.sk-toggleable {background-color: white;}#sk-container-id-2 label.sk-toggleable__label {cursor: pointer;display: block;width: 100%;margin-bottom: 0;padding: 0.3em;box-sizing: border-box;text-align: center;}#sk-container-id-2 label.sk-toggleable__label-arrow:before {content: \"▸\";float: left;margin-right: 0.25em;color: #696969;}#sk-container-id-2 label.sk-toggleable__label-arrow:hover:before {color: black;}#sk-container-id-2 div.sk-estimator:hover label.sk-toggleable__label-arrow:before {color: black;}#sk-container-id-2 div.sk-toggleable__content {max-height: 0;max-width: 0;overflow: hidden;text-align: left;background-color: #f0f8ff;}#sk-container-id-2 div.sk-toggleable__content pre {margin: 0.2em;color: black;border-radius: 0.25em;background-color: #f0f8ff;}#sk-container-id-2 input.sk-toggleable__control:checked~div.sk-toggleable__content {max-height: 200px;max-width: 100%;overflow: auto;}#sk-container-id-2 input.sk-toggleable__control:checked~label.sk-toggleable__label-arrow:before {content: \"▾\";}#sk-container-id-2 div.sk-estimator input.sk-toggleable__control:checked~label.sk-toggleable__label {background-color: #d4ebff;}#sk-container-id-2 div.sk-label input.sk-toggleable__control:checked~label.sk-toggleable__label {background-color: #d4ebff;}#sk-container-id-2 input.sk-hidden--visually {border: 0;clip: rect(1px 1px 1px 1px);clip: rect(1px, 1px, 1px, 1px);height: 1px;margin: -1px;overflow: hidden;padding: 0;position: absolute;width: 1px;}#sk-container-id-2 div.sk-estimator {font-family: monospace;background-color: #f0f8ff;border: 1px dotted black;border-radius: 0.25em;box-sizing: border-box;margin-bottom: 0.5em;}#sk-container-id-2 div.sk-estimator:hover {background-color: #d4ebff;}#sk-container-id-2 div.sk-parallel-item::after {content: \"\";width: 100%;border-bottom: 1px solid gray;flex-grow: 1;}#sk-container-id-2 div.sk-label:hover label.sk-toggleable__label {background-color: #d4ebff;}#sk-container-id-2 div.sk-serial::before {content: \"\";position: absolute;border-left: 1px solid gray;box-sizing: border-box;top: 0;bottom: 0;left: 50%;z-index: 0;}#sk-container-id-2 div.sk-serial {display: flex;flex-direction: column;align-items: center;background-color: white;padding-right: 0.2em;padding-left: 0.2em;position: relative;}#sk-container-id-2 div.sk-item {position: relative;z-index: 1;}#sk-container-id-2 div.sk-parallel {display: flex;align-items: stretch;justify-content: center;background-color: white;position: relative;}#sk-container-id-2 div.sk-item::before, #sk-container-id-2 div.sk-parallel-item::before {content: \"\";position: absolute;border-left: 1px solid gray;box-sizing: border-box;top: 0;bottom: 0;left: 50%;z-index: -1;}#sk-container-id-2 div.sk-parallel-item {display: flex;flex-direction: column;z-index: 1;position: relative;background-color: white;}#sk-container-id-2 div.sk-parallel-item:first-child::after {align-self: flex-end;width: 50%;}#sk-container-id-2 div.sk-parallel-item:last-child::after {align-self: flex-start;width: 50%;}#sk-container-id-2 div.sk-parallel-item:only-child::after {width: 0;}#sk-container-id-2 div.sk-dashed-wrapped {border: 1px dashed gray;margin: 0 0.4em 0.5em 0.4em;box-sizing: border-box;padding-bottom: 0.4em;background-color: white;}#sk-container-id-2 div.sk-label label {font-family: monospace;font-weight: bold;display: inline-block;line-height: 1.2em;}#sk-container-id-2 div.sk-label-container {text-align: center;}#sk-container-id-2 div.sk-container {/* jupyter's `normalize.less` sets `[hidden] { display: none; }` but bootstrap.min.css set `[hidden] { display: none !important; }` so we also need the `!important` here to be able to override the default hidden behavior on the sphinx rendered scikit-learn.org. See: https://github.com/scikit-learn/scikit-learn/issues/21755 */display: inline-block !important;position: relative;}#sk-container-id-2 div.sk-text-repr-fallback {display: none;}</style><div id=\"sk-container-id-2\" class=\"sk-top-container\"><div class=\"sk-text-repr-fallback\"><pre>LogisticRegression(C=1, multi_class=&#x27;ovr&#x27;)</pre><b>In a Jupyter environment, please rerun this cell to show the HTML representation or trust the notebook. <br />On GitHub, the HTML representation is unable to render, please try loading this page with nbviewer.org.</b></div><div class=\"sk-container\" hidden><div class=\"sk-item\"><div class=\"sk-estimator sk-toggleable\"><input class=\"sk-toggleable__control sk-hidden--visually\" id=\"sk-estimator-id-2\" type=\"checkbox\" checked><label for=\"sk-estimator-id-2\" class=\"sk-toggleable__label sk-toggleable__label-arrow\">LogisticRegression</label><div class=\"sk-toggleable__content\"><pre>LogisticRegression(C=1, multi_class=&#x27;ovr&#x27;)</pre></div></div></div></div></div>"
      ],
      "text/plain": [
       "LogisticRegression(C=1, multi_class='ovr')"
      ]
     },
     "execution_count": 13,
     "metadata": {},
     "output_type": "execute_result"
    }
   ],
   "source": [
    "model = LogisticRegression(multi_class='ovr',C=1)\n",
    "model.fit(train_tfidf,y)"
   ]
  },
  {
   "cell_type": "code",
   "execution_count": 14,
   "metadata": {},
   "outputs": [],
   "source": [
    "submission = model.predict(test_tfidf)\n",
    "submission_df = pd.Series(submission).rename(\"Predicted Exploitation\")\n"
   ]
  }
 ],
 "metadata": {
  "kernelspec": {
   "display_name": "Python 3.10.7 ('.venv': venv)",
   "language": "python",
   "name": "python3"
  },
  "language_info": {
   "codemirror_mode": {
    "name": "ipython",
    "version": 3
   },
   "file_extension": ".py",
   "mimetype": "text/x-python",
   "name": "python",
   "nbconvert_exporter": "python",
   "pygments_lexer": "ipython3",
   "version": "3.10.7"
  },
  "orig_nbformat": 4,
  "vscode": {
   "interpreter": {
    "hash": "3deb06a5d01804367ce2ecfe98b0b6814225a3aa42a1783b832b32d4dd999920"
   }
  }
 },
 "nbformat": 4,
 "nbformat_minor": 2
}
