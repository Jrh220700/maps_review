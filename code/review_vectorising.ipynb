{
 "cells": [
  {
   "cell_type": "code",
   "execution_count": null,
   "metadata": {},
   "outputs": [],
   "source": [
    "#New file to vectorise the reviews to perform the data science on them"
   ]
  },
  {
   "cell_type": "code",
   "execution_count": 2,
   "metadata": {},
   "outputs": [],
   "source": [
    "import pandas as pd\n",
    "df = pd.read_csv(\"../data/review_dataset.csv\")\n",
    "df = pd.DataFrame(df)"
   ]
  },
  {
   "cell_type": "code",
   "execution_count": 3,
   "metadata": {},
   "outputs": [],
   "source": [
    "'''Unique words separated into a dictionary'''\n",
    "DF = {}\n",
    "def keywords(dataset):\n",
    "    for i in range(len(dataset[\"lemmatized review\"])):\n",
    "        for x in dataset[\"lemmatized review\"][i]:\n",
    "            try:\n",
    "                DF[x].add(i)\n",
    "            except:\n",
    "                DF[x] = {i}\n",
    "\n",
    "\n",
    "\n",
    "keywords(df)\n",
    "    \n",
    "\n"
   ]
  },
  {
   "cell_type": "code",
   "execution_count": 6,
   "metadata": {},
   "outputs": [
    {
     "data": {
      "text/plain": [
       "{'[': 22386,\n",
       " \"'\": 22379,\n",
       " 's': 21758,\n",
       " 'a': 22117,\n",
       " 'y': 20725,\n",
       " ',': 22293,\n",
       " ' ': 22293,\n",
       " 'b': 17560,\n",
       " 'e': 22236,\n",
       " 't': 21865,\n",
       " 'l': 21852,\n",
       " 'o': 21845,\n",
       " 'n': 21890,\n",
       " 'i': 21925,\n",
       " 'v': 18559,\n",
       " 'r': 21997,\n",
       " '4': 1054,\n",
       " 'w': 19089,\n",
       " 'k': 17070,\n",
       " 'f': 19132,\n",
       " 'g': 20866,\n",
       " 'c': 21590,\n",
       " 'x': 10148,\n",
       " 'u': 20051,\n",
       " 'p': 19897,\n",
       " 'd': 21311,\n",
       " 'm': 19836,\n",
       " ']': 22386,\n",
       " 'h': 20028,\n",
       " 'z': 3204,\n",
       " 'q': 5445,\n",
       " 'j': 5426,\n",
       " '0': 2548,\n",
       " '2': 2094,\n",
       " '8': 494,\n",
       " '1': 2631,\n",
       " '3': 1411,\n",
       " '5': 1841,\n",
       " '7': 431,\n",
       " '9': 290,\n",
       " '6': 566,\n",
       " 'é': 37,\n",
       " 'ë': 1,\n",
       " '_': 6,\n",
       " 'ó': 1,\n",
       " '¼': 1,\n",
       " 'е': 1,\n",
       " 'ò': 1,\n",
       " 'ē': 1,\n",
       " 'ā': 2,\n",
       " 'á': 1,\n",
       " '½': 2,\n",
       " 'ﾟ': 1,\n",
       " 'î': 1,\n",
       " 'ī': 1}"
      ]
     },
     "execution_count": 6,
     "metadata": {},
     "output_type": "execute_result"
    }
   ],
   "source": [
    "for i in DF:\n",
    "    DF[i] = len(DF[i])\n",
    "\n",
    "DF"
   ]
  }
 ],
 "metadata": {
  "kernelspec": {
   "display_name": "Python 3.10.7 ('.venv': venv)",
   "language": "python",
   "name": "python3"
  },
  "language_info": {
   "codemirror_mode": {
    "name": "ipython",
    "version": 3
   },
   "file_extension": ".py",
   "mimetype": "text/x-python",
   "name": "python",
   "nbconvert_exporter": "python",
   "pygments_lexer": "ipython3",
   "version": "3.10.7"
  },
  "orig_nbformat": 4,
  "vscode": {
   "interpreter": {
    "hash": "3deb06a5d01804367ce2ecfe98b0b6814225a3aa42a1783b832b32d4dd999920"
   }
  }
 },
 "nbformat": 4,
 "nbformat_minor": 2
}
