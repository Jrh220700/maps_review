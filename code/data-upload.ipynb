{
 "cells": [
  {
   "cell_type": "code",
   "execution_count": 4,
   "metadata": {},
   "outputs": [],
   "source": [
    "import pandas as pd\n",
    "import re\n",
    "import nltk\n",
    "import num2words as n2w\n",
    "from nltk.corpus import wordnet as wn\n",
    "from nltk.stem.wordnet import WordNetLemmatizer\n",
    "from nltk import pos_tag\n",
    "from collections import defaultdict\n",
    "from nltk.corpus import stopwords\n",
    "from nltk.tokenize import word_tokenize"
   ]
  },
  {
   "cell_type": "code",
   "execution_count": 5,
   "metadata": {},
   "outputs": [],
   "source": [
    "review_dataset = pd.read_excel(\"../data/Locations.xlsm\",sheet_name=\"Review Details\")\n",
    "review_dataset = pd.DataFrame(review_dataset)\n",
    "review_dataset = review_dataset.fillna(\"\")"
   ]
  },
  {
   "cell_type": "code",
   "execution_count": 6,
   "metadata": {},
   "outputs": [],
   "source": [
    "def remove_punctuation(dataset):\n",
    "    dataset[\"Review Description\"] = dataset[\"Review Description\"].str.replace('[^\\w\\s]','',regex=True)\n",
    "    return dataset\n"
   ]
  },
  {
   "cell_type": "code",
   "execution_count": 7,
   "metadata": {},
   "outputs": [],
   "source": [
    "def remove_excess_newlines(dataset):\n",
    "    dataset[\"Review Description\"] = dataset[\"Review Description\"].str.replace(\"\\\\n\",\" \",regex=False)\n",
    "    return dataset"
   ]
  },
  {
   "cell_type": "code",
   "execution_count": 8,
   "metadata": {},
   "outputs": [],
   "source": [
    "def make_lowercase(dataset):\n",
    "    dataset[\"Review Description\"] = dataset[\"Review Description\"].str.lower()\n",
    "    return dataset"
   ]
  },
  {
   "cell_type": "code",
   "execution_count": 10,
   "metadata": {},
   "outputs": [
    {
     "data": {
      "text/plain": [
       "'\\nExample code for stemming stop words in case it is needed at any point\\n'"
      ]
     },
     "execution_count": 10,
     "metadata": {},
     "output_type": "execute_result"
    }
   ],
   "source": [
    "'''\n",
    "Example code for stemming stop words in case it is needed at any point\n",
    "'''\n",
    "\n",
    "# def stem_reviews():\n",
    "#     #nltk\n",
    "#     e_words = [\"wait\",\"Waiting\",\"waited\",\"waits\"]\n",
    "#     ps = nltk.stem.PorterStemmer()\n",
    "#     for w in e_words:\n",
    "#         rootWord=ps.stem(w)\n",
    "#         print(rootWord)\n",
    "\n",
    "# stem_reviews()"
   ]
  },
  {
   "cell_type": "code",
   "execution_count": 11,
   "metadata": {},
   "outputs": [],
   "source": [
    "review_dataset2 = remove_excess_newlines(review_dataset)\n",
    "review_dataset2 = remove_punctuation(review_dataset2)\n",
    "review_dataset2 = make_lowercase(review_dataset2)"
   ]
  },
  {
   "cell_type": "code",
   "execution_count": 12,
   "metadata": {},
   "outputs": [],
   "source": [
    "stop_words = nltk.corpus.stopwords.words('english')"
   ]
  },
  {
   "cell_type": "code",
   "execution_count": 22,
   "metadata": {},
   "outputs": [],
   "source": [
    "#further pre-processing of the dataset\n",
    "'''len(df[\"lemmatized review\"])'''\n",
    "def remove_stop(dataset):\n",
    "    dataset[\"processed review\"] = dataset[\"Review Description\"]\n",
    "    for i in range(len(dataset[\"processed review\"])):\n",
    "        new_text = review_dataset2[\"processed review\"][i]\n",
    "        text_tokens = word_tokenize(new_text)\n",
    "        text_without_stopwords = [word for word in text_tokens if not word in stop_words]\n",
    "        filtered_sentence = (\" \").join(text_without_stopwords)\n",
    "        dataset[\"processed review\"][i] = filtered_sentence\n",
    "    return dataset\n",
    "\n",
    "\n",
    "\n"
   ]
  },
  {
   "cell_type": "code",
   "execution_count": 23,
   "metadata": {},
   "outputs": [
    {
     "name": "stderr",
     "output_type": "stream",
     "text": [
      "/var/folders/1p/q8_71q2n5kx_1k4d5lf854km0000gp/T/ipykernel_18101/1579284213.py:10: SettingWithCopyWarning: \n",
      "A value is trying to be set on a copy of a slice from a DataFrame\n",
      "\n",
      "See the caveats in the documentation: https://pandas.pydata.org/pandas-docs/stable/user_guide/indexing.html#returning-a-view-versus-a-copy\n",
      "  dataset[\"processed review\"][i] = filtered_sentence\n"
     ]
    }
   ],
   "source": [
    "stopwords_dataset = remove_stop(review_dataset2)"
   ]
  },
  {
   "cell_type": "code",
   "execution_count": 15,
   "metadata": {},
   "outputs": [],
   "source": [
    "# def lem_reviews(dataset):\n",
    "# \ttag_map = defaultdict(lambda : wn.NOUN)\n",
    "# \ttag_map['J'] = wn.ADJ\n",
    "# \ttag_map['V'] = wn.VERB\n",
    "# \ttag_map['R'] = wn.ADV\n",
    "# \ttemp_str = \"\"\n",
    "# \tfor i in range(len(dataset)):\n",
    "# \t\ttemp_str = \"\"\n",
    "# \t\ttext = dataset[\"Review Description\"][i]\n",
    "# \t\ttokens = word_tokenize(text)\n",
    "# \t\tlemma_function = WordNetLemmatizer()\n",
    "# \t\tfor token, tag in pos_tag(tokens):\n",
    "# \t\t\tlemma = lemma_function.lemmatize(token, tag_map[tag[0]])\n",
    "# \t\t\ttemp_str = temp_str + lemma + \" \"\n",
    "# \t\tdataset[\"lemmatized review\"][i] = temp_str\n",
    "# \treturn dataset \n",
    "\n",
    "cleaned_dataset = stopwords_dataset\n",
    "\n",
    "cleaned_dataset[\"lemmatized review\"] = cleaned_dataset[\"processed review\"]\n",
    "w_tokenizer = nltk.tokenize.WhitespaceTokenizer()\n",
    "lemmatizer = WordNetLemmatizer()\n",
    "\n",
    "def lemmatize_text(text):\n",
    "    return [lemmatizer.lemmatize(w) for w in w_tokenizer.tokenize(text)]\n",
    "\n",
    "\n"
   ]
  },
  {
   "cell_type": "code",
   "execution_count": 32,
   "metadata": {},
   "outputs": [
    {
     "name": "stdout",
     "output_type": "stream",
     "text": [
      "<class 'list'>\n"
     ]
    }
   ],
   "source": [
    "cleaned_dataset[\"lemmatized review\"] = stopwords_dataset[\"processed review\"].apply(lemmatize_text)\n"
   ]
  },
  {
   "cell_type": "code",
   "execution_count": 24,
   "metadata": {},
   "outputs": [],
   "source": [
    "import os\n",
    "\n",
    "dir_path = os.getcwd()\n",
    "path = dir_path.replace('code','data')\n",
    "review_dataset2.to_csv(path + \"/review_dataset.csv\",index=False)\n"
   ]
  }
 ],
 "metadata": {
  "kernelspec": {
   "display_name": "Python 3.10.7 ('.venv': venv)",
   "language": "python",
   "name": "python3"
  },
  "language_info": {
   "codemirror_mode": {
    "name": "ipython",
    "version": 3
   },
   "file_extension": ".py",
   "mimetype": "text/x-python",
   "name": "python",
   "nbconvert_exporter": "python",
   "pygments_lexer": "ipython3",
   "version": "3.10.7"
  },
  "orig_nbformat": 4,
  "vscode": {
   "interpreter": {
    "hash": "3deb06a5d01804367ce2ecfe98b0b6814225a3aa42a1783b832b32d4dd999920"
   }
  }
 },
 "nbformat": 4,
 "nbformat_minor": 2
}
