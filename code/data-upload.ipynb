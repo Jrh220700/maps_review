{
 "cells": [
  {
   "cell_type": "code",
   "execution_count": 3,
   "metadata": {},
   "outputs": [],
   "source": [
    "import pandas as pd"
   ]
  },
  {
   "cell_type": "code",
   "execution_count": 22,
   "metadata": {},
   "outputs": [],
   "source": [
    "review_dataset = pd.read_excel(\"../data/Locations.xlsm\",sheet_name=\"Review Details\")\n",
    "#dataset = pd.DataFrame(review_dataset)\n",
    "#dataset.head()\n"
   ]
  },
  {
   "cell_type": "code",
   "execution_count": 28,
   "metadata": {},
   "outputs": [],
   "source": [
    "def remove_punctuation(dataset):\n",
    "    dataset[\"new_column\"] = dataset[\"Review Description\"].str.replace('[^\\w\\s]','')\n",
    "    return dataset\n"
   ]
  },
  {
   "cell_type": "code",
   "execution_count": 30,
   "metadata": {},
   "outputs": [
    {
     "name": "stderr",
     "output_type": "stream",
     "text": [
      "/var/folders/1p/q8_71q2n5kx_1k4d5lf854km0000gp/T/ipykernel_18357/1070274636.py:2: FutureWarning: The default value of regex will change from True to False in a future version.\n",
      "  dataset[\"new_column\"] = dataset[\"Review Description\"].str.replace('[^\\w\\s]','')\n"
     ]
    }
   ],
   "source": [
    "review_dataset2 = remove_punctuation(review_dataset)\n",
    "#review_dataset2"
   ]
  },
  {
   "cell_type": "code",
   "execution_count": 12,
   "metadata": {},
   "outputs": [],
   "source": [
    "#dataset = pd.DataFrame(dataset)\n",
    "#dataset.to_csv(index=False)"
   ]
  }
 ],
 "metadata": {
  "kernelspec": {
   "display_name": "Python 3.9.7 64-bit",
   "language": "python",
   "name": "python3"
  },
  "language_info": {
   "codemirror_mode": {
    "name": "ipython",
    "version": 3
   },
   "file_extension": ".py",
   "mimetype": "text/x-python",
   "name": "python",
   "nbconvert_exporter": "python",
   "pygments_lexer": "ipython3",
   "version": "3.10.6"
  },
  "orig_nbformat": 4,
  "vscode": {
   "interpreter": {
    "hash": "aee8b7b246df8f9039afb4144a1f6fd8d2ca17a180786b69acc140d282b71a49"
   }
  }
 },
 "nbformat": 4,
 "nbformat_minor": 2
}
